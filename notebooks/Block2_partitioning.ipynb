{
 "cells": [
  {
   "cell_type": "code",
   "execution_count": 20,
   "id": "27cb823c",
   "metadata": {},
   "outputs": [
    {
     "data": {
      "text/plain": [
       "[RealDictRow([('QUERY PLAN',\n",
       "               'Gather  (cost=1000.43..57198.68 rows=3766 width=17) (actual time=0.373..169.505 rows=4511 loops=1)')]),\n",
       " RealDictRow([('QUERY PLAN', '  Workers Planned: 2')]),\n",
       " RealDictRow([('QUERY PLAN', '  Workers Launched: 2')]),\n",
       " RealDictRow([('QUERY PLAN',\n",
       "               '  ->  Parallel Index Scan using block1_type2 on block11  (cost=0.43..55822.08 rows=1569 width=17) (actual time=0.173..129.942 rows=1504 loops=3)')]),\n",
       " RealDictRow([('QUERY PLAN',\n",
       "               \"        Index Cond: ((type)::text = 'click'::text)\")]),\n",
       " RealDictRow([('QUERY PLAN', '        Filter: (category < 10)')]),\n",
       " RealDictRow([('QUERY PLAN', '        Rows Removed by Filter: 165285')]),\n",
       " RealDictRow([('QUERY PLAN', 'Planning Time: 0.524 ms')]),\n",
       " RealDictRow([('QUERY PLAN', 'Execution Time: 169.850 ms')])]"
      ]
     },
     "execution_count": 20,
     "metadata": {},
     "output_type": "execute_result"
    }
   ],
   "source": [
    "\"\"\"\n",
    "Блок 2. Партицирование\n",
    "\"\"\"\n",
    "\n",
    "import libs.db_connection\n",
    "\n",
    "# Интересует конкретный пользователь\n",
    "sql1 = \"explain (analyze) select * from block11 where category < 10 and type = 'click'\"\n",
    "            \n",
    "libs.db_connection.select_data_dict_with_commit(sql1, [])"
   ]
  },
  {
   "cell_type": "code",
   "execution_count": 42,
   "id": "26ed4a26",
   "metadata": {},
   "outputs": [],
   "source": [
    "# Создадим партицированную таблицу и определим партиции\n",
    "sql1 = \"\"\"create table block11_partitioned (event_id int, user_id int, category int, type varchar) PARTITION BY LIST(type);\n",
    "CREATE TABLE block11_click PARTITION OF block11_partitioned FOR VALUES IN ('click');\n",
    "CREATE TABLE block11_show PARTITION OF block11_partitioned FOR VALUES IN ('show');\n",
    "\"\"\"\n",
    "\n",
    "libs.db_connection.execute(sql1)"
   ]
  },
  {
   "cell_type": "code",
   "execution_count": 43,
   "id": "c6a90a37",
   "metadata": {},
   "outputs": [],
   "source": [
    "# Загрузим данные\n",
    "sql1 = \"INSERT INTO block11_partitioned SELECT * from block11;\"\n",
    "            \n",
    "libs.db_connection.execute(sql1)"
   ]
  },
  {
   "cell_type": "code",
   "execution_count": 51,
   "id": "9cee3f8c",
   "metadata": {},
   "outputs": [
    {
     "data": {
      "text/plain": [
       "[RealDictRow([('QUERY PLAN',\n",
       "               'Gather  (cost=1000.00..7784.69 rows=4694 width=18) (actual time=0.189..20.170 rows=4511 loops=1)')]),\n",
       " RealDictRow([('QUERY PLAN', '  Workers Planned: 2')]),\n",
       " RealDictRow([('QUERY PLAN', '  Workers Launched: 2')]),\n",
       " RealDictRow([('QUERY PLAN',\n",
       "               '  ->  Parallel Seq Scan on block11_click block11_partitioned  (cost=0.00..6315.29 rows=1956 width=18) (actual time=0.012..14.863 rows=1504 loops=3)')]),\n",
       " RealDictRow([('QUERY PLAN',\n",
       "               \"        Filter: ((category < 10) AND ((type)::text = 'click'::text))\")]),\n",
       " RealDictRow([('QUERY PLAN', '        Rows Removed by Filter: 165285')]),\n",
       " RealDictRow([('QUERY PLAN', 'Planning Time: 0.274 ms')]),\n",
       " RealDictRow([('QUERY PLAN', 'Execution Time: 20.413 ms')])]"
      ]
     },
     "execution_count": 51,
     "metadata": {},
     "output_type": "execute_result"
    }
   ],
   "source": [
    "# Проверяем наш запрос\n",
    "sql1 = \"explain (analyze) select * from block11_partitioned where category < 10 and type = 'click'\"\n",
    "            \n",
    "libs.db_connection.select_data_dict_with_commit(sql1, [])"
   ]
  },
  {
   "cell_type": "code",
   "execution_count": 53,
   "id": "0da7a3d3",
   "metadata": {},
   "outputs": [
    {
     "data": {
      "text/plain": [
       "[RealDictRow([('QUERY PLAN',\n",
       "               'Gather  (cost=1000.00..7263.48 rows=4694 width=18) (actual time=0.312..21.893 rows=4511 loops=1)')]),\n",
       " RealDictRow([('QUERY PLAN', '  Workers Planned: 2')]),\n",
       " RealDictRow([('QUERY PLAN', '  Workers Launched: 2')]),\n",
       " RealDictRow([('QUERY PLAN',\n",
       "               '  ->  Parallel Seq Scan on block11_click  (cost=0.00..5794.08 rows=1956 width=18) (actual time=0.018..17.372 rows=1504 loops=3)')]),\n",
       " RealDictRow([('QUERY PLAN', '        Filter: (category < 10)')]),\n",
       " RealDictRow([('QUERY PLAN', '        Rows Removed by Filter: 165285')]),\n",
       " RealDictRow([('QUERY PLAN', 'Planning Time: 0.180 ms')]),\n",
       " RealDictRow([('QUERY PLAN', 'Execution Time: 22.138 ms')])]"
      ]
     },
     "execution_count": 53,
     "metadata": {},
     "output_type": "execute_result"
    }
   ],
   "source": [
    "# Можно работать напрямую с партицией\n",
    "sql1 = \"explain (analyze) select * from block11_click where category < 10 and type = 'click'\"\n",
    "            \n",
    "libs.db_connection.select_data_dict_with_commit(sql1, [])"
   ]
  },
  {
   "cell_type": "code",
   "execution_count": 85,
   "id": "eda1dacb",
   "metadata": {},
   "outputs": [
    {
     "data": {
      "text/plain": [
       "[RealDictRow([('QUERY PLAN',\n",
       "               'Gather  (cost=1000.00..232554.54 rows=1 width=21) (actual time=547.157..549.878 rows=0 loops=1)')]),\n",
       " RealDictRow([('QUERY PLAN', '  Workers Planned: 2')]),\n",
       " RealDictRow([('QUERY PLAN', '  Workers Launched: 2')]),\n",
       " RealDictRow([('QUERY PLAN',\n",
       "               '  ->  Parallel Seq Scan on task11  (cost=0.00..231554.44 rows=1 width=21) (actual time=530.543..530.543 rows=0 loops=3)')]),\n",
       " RealDictRow([('QUERY PLAN',\n",
       "               \"        Filter: (dt = '2022-05-20 00:00:00+00'::timestamp with time zone)\")]),\n",
       " RealDictRow([('QUERY PLAN', '        Rows Removed by Filter: 6666667')]),\n",
       " RealDictRow([('QUERY PLAN', 'Planning Time: 0.120 ms')]),\n",
       " RealDictRow([('QUERY PLAN', 'JIT:')]),\n",
       " RealDictRow([('QUERY PLAN', '  Functions: 6')]),\n",
       " RealDictRow([('QUERY PLAN',\n",
       "               '  Options: Inlining false, Optimization false, Expressions true, Deforming true')]),\n",
       " RealDictRow([('QUERY PLAN',\n",
       "               '  Timing: Generation 1.017 ms, Inlining 0.000 ms, Optimization 0.640 ms, Emission 7.639 ms, Total 9.296 ms')]),\n",
       " RealDictRow([('QUERY PLAN', 'Execution Time: 578.975 ms')])]"
      ]
     },
     "execution_count": 85,
     "metadata": {},
     "output_type": "execute_result"
    }
   ],
   "source": [
    "# Задание: Для ускорения инкрементальной загрузки создать партиции на даты:\n",
    "# 2022-05-20\n",
    "# 2022-05-21\n",
    "# 2022-05-22\n",
    "# 2022-05-23\n",
    "\n",
    "sql = \"explain (analyze) select * from task11 where dt = '2022-05-20 00:00:00'\"\n",
    "libs.db_connection.select_data_dict_with_commit(sql, [])\n"
   ]
  },
  {
   "cell_type": "code",
   "execution_count": 78,
   "id": "ec2cca8a",
   "metadata": {},
   "outputs": [],
   "source": [
    "# Создаем таблицу и партиции\n",
    "sql1 = \"\"\"create table task11_partitioned (event_id int, user_id int, type varchar, dt timestamptz) PARTITION BY RANGE (dt);\n",
    "create table task11_2022_05_19 partition of task11_partitioned for values from ('2022-05-19') to ('2022-05-20');\n",
    "create table task11_2022_05_20 partition of task11_partitioned for values from ('2022-05-20') to ('2022-05-21');\n",
    "create table task11_2022_05_21 partition of task11_partitioned for values from ('2022-05-21') to ('2022-05-22');\n",
    "create table task11_2022_05_22 partition of task11_partitioned for values from ('2022-05-22') to ('2022-05-23');\n",
    "create table task11_2022_05_23 partition of task11_partitioned for values from ('2022-05-23') to ('2022-05-24');\n",
    "\"\"\"\n",
    "libs.db_connection.execute(sql1)"
   ]
  },
  {
   "cell_type": "code",
   "execution_count": 79,
   "id": "3c13460d",
   "metadata": {},
   "outputs": [],
   "source": [
    "# Загружаем данные\n",
    "sql1 = \"\"\"insert into task11_partitioned select * from task11;\"\"\"\n",
    "\n",
    "libs.db_connection.execute(sql1)"
   ]
  },
  {
   "cell_type": "code",
   "execution_count": 86,
   "id": "628b0e8c",
   "metadata": {},
   "outputs": [
    {
     "data": {
      "text/plain": [
       "[RealDictRow([('QUERY PLAN',\n",
       "               'Gather  (cost=1000.00..78201.52 rows=1 width=21) (actual time=176.729..178.946 rows=0 loops=1)')]),\n",
       " RealDictRow([('QUERY PLAN', '  Workers Planned: 2')]),\n",
       " RealDictRow([('QUERY PLAN', '  Workers Launched: 2')]),\n",
       " RealDictRow([('QUERY PLAN',\n",
       "               '  ->  Parallel Seq Scan on task11_2022_05_20 task11_partitioned  (cost=0.00..77201.42 rows=1 width=21) (actual time=174.361..174.362 rows=0 loops=3)')]),\n",
       " RealDictRow([('QUERY PLAN',\n",
       "               \"        Filter: (dt = '2022-05-20 00:00:00+00'::timestamp with time zone)\")]),\n",
       " RealDictRow([('QUERY PLAN', '        Rows Removed by Filter: 2222688')]),\n",
       " RealDictRow([('QUERY PLAN', 'Planning Time: 0.382 ms')]),\n",
       " RealDictRow([('QUERY PLAN', 'Execution Time: 179.019 ms')])]"
      ]
     },
     "execution_count": 86,
     "metadata": {},
     "output_type": "execute_result"
    }
   ],
   "source": [
    "# Проверяем производительность\n",
    "\n",
    "sql = \"explain (analyze) select * from task11_partitioned where dt = '2022-05-20 00:00:00'\"\n",
    "libs.db_connection.select_data_dict_with_commit(sql, [])"
   ]
  },
  {
   "cell_type": "code",
   "execution_count": 88,
   "id": "858b8ff5",
   "metadata": {},
   "outputs": [
    {
     "data": {
      "text/plain": [
       "[RealDictRow([('QUERY PLAN',\n",
       "               'Gather  (cost=1000.00..116779.03 rows=1 width=21) (actual time=304.026..306.619 rows=0 loops=1)')]),\n",
       " RealDictRow([('QUERY PLAN', '  Workers Planned: 2')]),\n",
       " RealDictRow([('QUERY PLAN', '  Workers Launched: 2')]),\n",
       " RealDictRow([('QUERY PLAN',\n",
       "               '  ->  Parallel Seq Scan on task1  (cost=0.00..115778.93 rows=1 width=21) (actual time=283.989..283.990 rows=0 loops=3)')]),\n",
       " RealDictRow([('QUERY PLAN',\n",
       "               \"        Filter: (dt = '2022-05-20 00:00:00+00'::timestamp with time zone)\")]),\n",
       " RealDictRow([('QUERY PLAN', '        Rows Removed by Filter: 3333333')]),\n",
       " RealDictRow([('QUERY PLAN', 'Planning Time: 0.127 ms')]),\n",
       " RealDictRow([('QUERY PLAN', 'JIT:')]),\n",
       " RealDictRow([('QUERY PLAN', '  Functions: 6')]),\n",
       " RealDictRow([('QUERY PLAN',\n",
       "               '  Options: Inlining false, Optimization false, Expressions true, Deforming true')]),\n",
       " RealDictRow([('QUERY PLAN',\n",
       "               '  Timing: Generation 0.958 ms, Inlining 0.000 ms, Optimization 0.812 ms, Emission 8.603 ms, Total 10.373 ms')]),\n",
       " RealDictRow([('QUERY PLAN', 'Execution Time: 340.986 ms')])]"
      ]
     },
     "execution_count": 88,
     "metadata": {},
     "output_type": "execute_result"
    }
   ],
   "source": [
    "# Сравниваем производительность с индексом\n",
    "\n",
    "sql = \"explain (analyze) select * from task1 where dt = '2022-05-20 00:00:00'\"\n",
    "libs.db_connection.select_data_dict_with_commit(sql, [])"
   ]
  }
 ],
 "metadata": {
  "kernelspec": {
   "display_name": "Python 3 (ipykernel)",
   "language": "python",
   "name": "python3"
  },
  "language_info": {
   "codemirror_mode": {
    "name": "ipython",
    "version": 3
   },
   "file_extension": ".py",
   "mimetype": "text/x-python",
   "name": "python",
   "nbconvert_exporter": "python",
   "pygments_lexer": "ipython3",
   "version": "3.9.7"
  }
 },
 "nbformat": 4,
 "nbformat_minor": 5
}
