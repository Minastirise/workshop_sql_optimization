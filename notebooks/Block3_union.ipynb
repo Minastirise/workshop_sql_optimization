{
 "cells": [
  {
   "cell_type": "code",
   "execution_count": 1,
   "id": "4669a4d3",
   "metadata": {
    "collapsed": true
   },
   "outputs": [
    {
     "data": {
      "text/plain": [
       "[RealDictRow([('QUERY PLAN',\n",
       "               'Unique  (cost=390941.69..410941.69 rows=2000000 width=40) (actual time=1138.194..1565.609 rows=1999998 loops=1)')]),\n",
       " RealDictRow([('QUERY PLAN',\n",
       "               '  ->  Sort  (cost=390941.69..395941.69 rows=2000000 width=40) (actual time=1138.191..1345.738 rows=2000000 loops=1)')]),\n",
       " RealDictRow([('QUERY PLAN',\n",
       "               '        Sort Key: t1.event_id, t1.user_id, t1.product_name')]),\n",
       " RealDictRow([('QUERY PLAN',\n",
       "               '        Sort Method: external merge  Disk: 135056kB')]),\n",
       " RealDictRow([('QUERY PLAN',\n",
       "               '        ->  Append  (cost=0.00..72251.00 rows=2000000 width=40) (actual time=0.523..473.771 rows=2000000 loops=1)')]),\n",
       " RealDictRow([('QUERY PLAN',\n",
       "               '              ->  Seq Scan on block21 t1  (cost=0.00..21123.00 rows=1000000 width=59) (actual time=0.521..198.506 rows=1000000 loops=1)')]),\n",
       " RealDictRow([('QUERY PLAN',\n",
       "               '              ->  Seq Scan on block22 t2  (cost=0.00..21128.00 rows=1000000 width=58) (actual time=0.572..180.888 rows=1000000 loops=1)')]),\n",
       " RealDictRow([('QUERY PLAN', 'Planning Time: 0.441 ms')]),\n",
       " RealDictRow([('QUERY PLAN', 'JIT:')]),\n",
       " RealDictRow([('QUERY PLAN', '  Functions: 1')]),\n",
       " RealDictRow([('QUERY PLAN',\n",
       "               '  Options: Inlining false, Optimization false, Expressions true, Deforming true')]),\n",
       " RealDictRow([('QUERY PLAN',\n",
       "               '  Timing: Generation 0.331 ms, Inlining 0.000 ms, Optimization 0.198 ms, Emission 1.908 ms, Total 2.436 ms')]),\n",
       " RealDictRow([('QUERY PLAN', 'Execution Time: 1659.867 ms')])]"
      ]
     },
     "execution_count": 1,
     "metadata": {},
     "output_type": "execute_result"
    }
   ],
   "source": [
    "\"\"\"\n",
    "Блок 3. Оптимизация union\n",
    "\"\"\"\n",
    "\n",
    "import libs.db_connection\n",
    "\n",
    "sql1 = \"\"\"EXPLAIN (ANALYZE, COSTS) \n",
    "select * from block21 t1\n",
    "union\n",
    "select * from block22 t2\"\"\"\n",
    "\n",
    "            \n",
    "libs.db_connection.select_data_dict_with_commit(sql1, [])"
   ]
  },
  {
   "cell_type": "code",
   "execution_count": 2,
   "id": "e5cdabee",
   "metadata": {
    "collapsed": true
   },
   "outputs": [
    {
     "data": {
      "text/plain": [
       "[RealDictRow([('QUERY PLAN',\n",
       "               'Append  (cost=0.00..52251.00 rows=2000000 width=58) (actual time=0.056..213.851 rows=2000000 loops=1)')]),\n",
       " RealDictRow([('QUERY PLAN',\n",
       "               '  ->  Seq Scan on block21 t1  (cost=0.00..21123.00 rows=1000000 width=59) (actual time=0.056..67.022 rows=1000000 loops=1)')]),\n",
       " RealDictRow([('QUERY PLAN',\n",
       "               '  ->  Seq Scan on block22 t2  (cost=0.00..21128.00 rows=1000000 width=58) (actual time=0.022..62.849 rows=1000000 loops=1)')]),\n",
       " RealDictRow([('QUERY PLAN', 'Planning Time: 0.798 ms')]),\n",
       " RealDictRow([('QUERY PLAN', 'Execution Time: 255.344 ms')])]"
      ]
     },
     "execution_count": 2,
     "metadata": {},
     "output_type": "execute_result"
    }
   ],
   "source": [
    "sql1 = \"\"\"EXPLAIN (ANALYZE, COSTS) \n",
    "select * from block21 t1\n",
    "union all\n",
    "select * from block22 t2\"\"\"\n",
    "\n",
    "            \n",
    "libs.db_connection.select_data_dict_with_commit(sql1, [])"
   ]
  },
  {
   "cell_type": "code",
   "execution_count": 4,
   "id": "f4533a0f",
   "metadata": {
    "collapsed": true
   },
   "outputs": [
    {
     "data": {
      "text/plain": [
       "[RealDictRow([('QUERY PLAN',\n",
       "               'Append  (cost=134560.50..362094.75 rows=2000000 width=58) (actual time=433.513..1680.720 rows=2000000 loops=1)')]),\n",
       " RealDictRow([('QUERY PLAN',\n",
       "               '  ->  HashAggregate  (cost=134560.50..166044.88 rows=1000000 width=59) (actual time=433.512..815.933 rows=1000000 loops=1)')]),\n",
       " RealDictRow([('QUERY PLAN',\n",
       "               '        Group Key: t1.event_id, t1.user_id, t1.product_name')]),\n",
       " RealDictRow([('QUERY PLAN',\n",
       "               '        Planned Partitions: 64  Batches: 65  Memory Usage: 4113kB  Disk Usage: 126160kB')]),\n",
       " RealDictRow([('QUERY PLAN',\n",
       "               '        ->  Seq Scan on block21 t1  (cost=0.00..21123.00 rows=1000000 width=59) (actual time=0.088..68.010 rows=1000000 loops=1)')]),\n",
       " RealDictRow([('QUERY PLAN',\n",
       "               '  ->  HashAggregate  (cost=134565.50..166049.88 rows=1000000 width=58) (actual time=425.942..782.652 rows=1000000 loops=1)')]),\n",
       " RealDictRow([('QUERY PLAN',\n",
       "               '        Group Key: t2.event_id, t2.user_id, t2.product_name')]),\n",
       " RealDictRow([('QUERY PLAN',\n",
       "               '        Planned Partitions: 64  Batches: 65  Memory Usage: 4113kB  Disk Usage: 126152kB')]),\n",
       " RealDictRow([('QUERY PLAN',\n",
       "               '        ->  Seq Scan on block22 t2  (cost=0.00..21128.00 rows=1000000 width=58) (actual time=0.064..68.655 rows=1000000 loops=1)')]),\n",
       " RealDictRow([('QUERY PLAN', 'Planning Time: 0.306 ms')]),\n",
       " RealDictRow([('QUERY PLAN', 'JIT:')]),\n",
       " RealDictRow([('QUERY PLAN', '  Functions: 16')]),\n",
       " RealDictRow([('QUERY PLAN',\n",
       "               '  Options: Inlining false, Optimization false, Expressions true, Deforming true')]),\n",
       " RealDictRow([('QUERY PLAN',\n",
       "               '  Timing: Generation 1.386 ms, Inlining 0.000 ms, Optimization 1.014 ms, Emission 11.454 ms, Total 13.854 ms')]),\n",
       " RealDictRow([('QUERY PLAN', 'Execution Time: 1783.198 ms')])]"
      ]
     },
     "execution_count": 4,
     "metadata": {},
     "output_type": "execute_result"
    }
   ],
   "source": [
    "sql1 = \"\"\"EXPLAIN (ANALYZE, COSTS) \n",
    "select distinct * from (\n",
    "select * from block21 t1\n",
    "union all\n",
    "select * from block22 t2) a\"\"\"\n",
    "\n",
    "            \n",
    "libs.db_connection.select_data_dict_with_commit(sql1, [])"
   ]
  },
  {
   "cell_type": "code",
   "execution_count": null,
   "id": "d976f55f",
   "metadata": {
    "collapsed": true
   },
   "outputs": [],
   "source": [
    "# Задание: \n",
    "# У нас есть несколько таблиц в которых хранятся номенклатуры. Причем часть номенклатур лежит в одной таблице, \n",
    "# часть во второй и часть в третьей.\n",
    "# Нам нужна витрина, в которой бы лежали все номенклатуры. Требуется написать запрос, формирующий данную витрину.\n",
    "# Перечень таблиц с номенклатурами: nomenclature1 , nomenclature2, nomenclature3 \n",
    "\n",
    "sql = \"\"\"\n",
    "explain (ANALYZE)\n",
    "    select * from ...\n",
    "\"\"\"\n",
    "\n",
    "libs.db_connection.select_data_dict_with_commit(sql, [])"
   ]
  },
  {
   "cell_type": "code",
   "execution_count": null,
   "id": "c17480dc",
   "metadata": {
    "collapsed": true
   },
   "outputs": [],
   "source": [
    "sql = \"\"\"\n",
    "explain (ANALYZE)\n",
    "    select * from ...\n",
    "\"\"\"\n",
    "\n",
    "libs.db_connection.select_data_dict_with_commit(sql, [])"
   ]
  }
 ],
 "metadata": {
  "kernelspec": {
   "display_name": "Python 3 (ipykernel)",
   "language": "python",
   "name": "python3"
  },
  "language_info": {
   "codemirror_mode": {
    "name": "ipython",
    "version": 3
   },
   "file_extension": ".py",
   "mimetype": "text/x-python",
   "name": "python",
   "nbconvert_exporter": "python",
   "pygments_lexer": "ipython3",
   "version": "3.9.7"
  }
 },
 "nbformat": 4,
 "nbformat_minor": 5
}
