{
 "cells": [
  {
   "cell_type": "code",
   "execution_count": 2,
   "id": "8cc08e10",
   "metadata": {},
   "outputs": [
    {
     "data": {
      "text/plain": [
       "[RealDictRow([('QUERY PLAN',\n",
       "               'Gather  (cost=1001.25..15646.03 rows=1 width=103) (actual time=208.829..210.628 rows=0 loops=1)')]),\n",
       " RealDictRow([('QUERY PLAN', '  Workers Planned: 2')]),\n",
       " RealDictRow([('QUERY PLAN', '  Workers Launched: 2')]),\n",
       " RealDictRow([('QUERY PLAN',\n",
       "               '  ->  Hash Join  (cost=1.25..14645.93 rows=1 width=103) (actual time=203.628..203.631 rows=0 loops=3)')]),\n",
       " RealDictRow([('QUERY PLAN',\n",
       "               '        Hash Cond: ((a.user_id = b.user_id) AND ((a.user_name)::text = (b.user_name)::text))')]),\n",
       " RealDictRow([('QUERY PLAN',\n",
       "               '        ->  Parallel Seq Scan on block51 a  (cost=0.00..11519.67 rows=416667 width=27) (actual time=1.947..151.574 rows=333333 loops=3)')]),\n",
       " RealDictRow([('QUERY PLAN',\n",
       "               '        ->  Hash  (cost=1.10..1.10 rows=10 width=76) (actual time=0.037..0.038 rows=10 loops=3)')]),\n",
       " RealDictRow([('QUERY PLAN',\n",
       "               '              Buckets: 1024  Batches: 1  Memory Usage: 9kB')]),\n",
       " RealDictRow([('QUERY PLAN',\n",
       "               '              ->  Seq Scan on block53 b  (cost=0.00..1.10 rows=10 width=76) (actual time=0.023..0.024 rows=10 loops=3)')]),\n",
       " RealDictRow([('QUERY PLAN', 'Planning Time: 0.957 ms')]),\n",
       " RealDictRow([('QUERY PLAN', 'Execution Time: 210.688 ms')])]"
      ]
     },
     "execution_count": 2,
     "metadata": {},
     "output_type": "execute_result"
    }
   ],
   "source": [
    "\"\"\"\n",
    "Блок 3. Оптимизация с помощью физических джойнов\n",
    "\"\"\"\n",
    "\n",
    "import libs.db_connection\n",
    "\n",
    "# Hash join\n",
    "sql1 = \"\"\"explain (analyze) \n",
    "select * \n",
    "from block51 a \n",
    "inner join block53 b  \n",
    "on a.user_id = b.user_id \n",
    "and a.user_name = b.user_name\"\"\"\n",
    "\n",
    "            \n",
    "libs.db_connection.select_data_dict_with_commit(sql1, [])"
   ]
  },
  {
   "cell_type": "code",
   "execution_count": 4,
   "id": "fb7b955b",
   "metadata": {},
   "outputs": [
    {
     "data": {
      "text/plain": [
       "[RealDictRow([('QUERY PLAN',\n",
       "               'Nested Loop  (cost=0.00..192354.12 rows=215 width=103) (actual time=17.206..1245.846 rows=206 loops=1)')]),\n",
       " RealDictRow([('QUERY PLAN',\n",
       "               '  Join Filter: ((a.user_id = b.user_id) OR ((a.user_name)::text = (b.user_name)::text))')]),\n",
       " RealDictRow([('QUERY PLAN', '  Rows Removed by Join Filter: 9999794')]),\n",
       " RealDictRow([('QUERY PLAN',\n",
       "               '  ->  Seq Scan on block51 a  (cost=0.00..17353.00 rows=1000000 width=27) (actual time=0.065..75.381 rows=1000000 loops=1)')]),\n",
       " RealDictRow([('QUERY PLAN',\n",
       "               '  ->  Materialize  (cost=0.00..1.15 rows=10 width=76) (actual time=0.000..0.000 rows=10 loops=1000000)')]),\n",
       " RealDictRow([('QUERY PLAN',\n",
       "               '        ->  Seq Scan on block53 b  (cost=0.00..1.10 rows=10 width=76) (actual time=0.004..0.009 rows=10 loops=1)')]),\n",
       " RealDictRow([('QUERY PLAN', 'Planning Time: 0.201 ms')]),\n",
       " RealDictRow([('QUERY PLAN', 'JIT:')]),\n",
       " RealDictRow([('QUERY PLAN', '  Functions: 6')]),\n",
       " RealDictRow([('QUERY PLAN',\n",
       "               '  Options: Inlining false, Optimization false, Expressions true, Deforming true')]),\n",
       " RealDictRow([('QUERY PLAN',\n",
       "               '  Timing: Generation 0.566 ms, Inlining 0.000 ms, Optimization 0.356 ms, Emission 7.246 ms, Total 8.167 ms')]),\n",
       " RealDictRow([('QUERY PLAN', 'Execution Time: 1278.251 ms')])]"
      ]
     },
     "execution_count": 4,
     "metadata": {},
     "output_type": "execute_result"
    }
   ],
   "source": [
    "# Nested Loop join\n",
    "sql1 = \"\"\"explain  (analyze) \n",
    "select * \n",
    "from block51 a \n",
    "inner join block53 b  \n",
    "on a.user_id = b.user_id \n",
    "or a.user_name = b.user_name\"\"\"\n",
    "\n",
    "            \n",
    "libs.db_connection.select_data_dict_with_commit(sql1, [])"
   ]
  },
  {
   "cell_type": "code",
   "execution_count": 5,
   "id": "a28014cb",
   "metadata": {},
   "outputs": [
    {
     "data": {
      "text/plain": [
       "[RealDictRow([('QUERY PLAN',\n",
       "               'HashAggregate  (cost=27197.25..27199.40 rows=215 width=152) (actual time=99.979..100.743 rows=206 loops=1)')]),\n",
       " RealDictRow([('QUERY PLAN',\n",
       "               '  Group Key: a.event_id, a.user_id, a.user_name, a.category, a.type, b.user_id, b.user_name, b.type, b.register_dt')]),\n",
       " RealDictRow([('QUERY PLAN', '  Batches: 1  Memory Usage: 80kB')]),\n",
       " RealDictRow([('QUERY PLAN',\n",
       "               '  ->  Gather  (cost=1001.23..27192.41 rows=215 width=152) (actual time=1.674..99.427 rows=206 loops=1)')]),\n",
       " RealDictRow([('QUERY PLAN', '        Workers Planned: 2')]),\n",
       " RealDictRow([('QUERY PLAN', '        Workers Launched: 2')]),\n",
       " RealDictRow([('QUERY PLAN',\n",
       "               '        ->  Parallel Append  (cost=1.23..26170.91 rows=215 width=152) (actual time=2.735..96.519 rows=69 loops=3)')]),\n",
       " RealDictRow([('QUERY PLAN',\n",
       "               '              ->  Hash Join  (cost=1.23..13083.84 rows=45 width=103) (actual time=0.670..41.972 rows=35 loops=3)')]),\n",
       " RealDictRow([('QUERY PLAN',\n",
       "               '                    Hash Cond: (a.user_id = b.user_id)')]),\n",
       " RealDictRow([('QUERY PLAN',\n",
       "               '                    ->  Parallel Seq Scan on block51 a  (cost=0.00..11519.67 rows=416667 width=27) (actual time=0.019..20.042 rows=333333 loops=3)')]),\n",
       " RealDictRow([('QUERY PLAN',\n",
       "               '                    ->  Hash  (cost=1.10..1.10 rows=10 width=76) (actual time=0.013..0.014 rows=10 loops=3)')]),\n",
       " RealDictRow([('QUERY PLAN',\n",
       "               '                          Buckets: 1024  Batches: 1  Memory Usage: 9kB')]),\n",
       " RealDictRow([('QUERY PLAN',\n",
       "               '                          ->  Seq Scan on block53 b  (cost=0.00..1.10 rows=10 width=76) (actual time=0.008..0.009 rows=10 loops=3)')]),\n",
       " RealDictRow([('QUERY PLAN',\n",
       "               '              ->  Hash Join  (cost=1.23..13083.84 rows=45 width=103) (actual time=3.827..81.775 rows=50 loops=2)')]),\n",
       " RealDictRow([('QUERY PLAN',\n",
       "               '                    Hash Cond: ((a_1.user_name)::text = (b_1.user_name)::text)')]),\n",
       " RealDictRow([('QUERY PLAN',\n",
       "               '                    ->  Parallel Seq Scan on block51 a_1  (cost=0.00..11519.67 rows=416667 width=27) (actual time=0.036..36.606 rows=500000 loops=2)')]),\n",
       " RealDictRow([('QUERY PLAN',\n",
       "               '                    ->  Hash  (cost=1.10..1.10 rows=10 width=76) (actual time=0.018..0.019 rows=10 loops=2)')]),\n",
       " RealDictRow([('QUERY PLAN',\n",
       "               '                          Buckets: 1024  Batches: 1  Memory Usage: 9kB')]),\n",
       " RealDictRow([('QUERY PLAN',\n",
       "               '                          ->  Seq Scan on block53 b_1  (cost=0.00..1.10 rows=10 width=76) (actual time=0.010..0.011 rows=10 loops=2)')]),\n",
       " RealDictRow([('QUERY PLAN', 'Planning Time: 1.132 ms')]),\n",
       " RealDictRow([('QUERY PLAN', 'Execution Time: 101.670 ms')])]"
      ]
     },
     "execution_count": 5,
     "metadata": {},
     "output_type": "execute_result"
    }
   ],
   "source": [
    "# Оптимизация \n",
    "sql1 = \"\"\"\n",
    "explain  (analyze) \n",
    "select * \n",
    "from block51 a \n",
    "inner join block53 b  \n",
    "on a.user_id = b.user_id\n",
    "\n",
    "union\n",
    "\n",
    "select * \n",
    "from block51 a \n",
    "inner join block53 b  \n",
    "on a.user_name = b.user_name\n",
    "\"\"\"\n",
    "\n",
    "libs.db_connection.select_data_dict_with_commit(sql1, [])"
   ]
  },
  {
   "cell_type": "code",
   "execution_count": 6,
   "id": "f3f8c313",
   "metadata": {},
   "outputs": [],
   "source": [
    "# Создаем индекс\n",
    "sql1 = \"create index block11_tst on block51 (user_id, user_name)\"\n",
    "\n",
    "            \n",
    "libs.db_connection.execute(sql1)"
   ]
  },
  {
   "cell_type": "code",
   "execution_count": 7,
   "id": "fb4db65a",
   "metadata": {},
   "outputs": [],
   "source": [
    "# Создаем индекс\n",
    "sql1 = \"create index block53_tst on block53 (user_id, user_name)\"\n",
    "\n",
    "            \n",
    "libs.db_connection.execute(sql1)"
   ]
  },
  {
   "cell_type": "code",
   "execution_count": 8,
   "id": "b2ec05dd",
   "metadata": {},
   "outputs": [
    {
     "data": {
      "text/plain": [
       "[RealDictRow([('QUERY PLAN',\n",
       "               'Nested Loop  (cost=9046.14..91274.11 rows=215 width=103) (actual time=40.997..252.586 rows=206 loops=1)')]),\n",
       " RealDictRow([('QUERY PLAN',\n",
       "               '  ->  Seq Scan on block53 b  (cost=0.00..1.10 rows=10 width=76) (actual time=0.004..0.016 rows=10 loops=1)')]),\n",
       " RealDictRow([('QUERY PLAN',\n",
       "               '  ->  Bitmap Heap Scan on block51 a  (cost=9046.14..9127.09 rows=21 width=27) (actual time=25.142..25.242 rows=21 loops=10)')]),\n",
       " RealDictRow([('QUERY PLAN',\n",
       "               '        Recheck Cond: ((user_id = b.user_id) OR ((user_name)::text = (b.user_name)::text))')]),\n",
       " RealDictRow([('QUERY PLAN', '        Heap Blocks: exact=206')]),\n",
       " RealDictRow([('QUERY PLAN',\n",
       "               '        ->  BitmapOr  (cost=9046.14..9046.14 rows=21 width=0) (actual time=25.110..25.110 rows=0 loops=10)')]),\n",
       " RealDictRow([('QUERY PLAN',\n",
       "               '              ->  Bitmap Index Scan on block11_tst  (cost=0.00..4.51 rows=11 width=0) (actual time=0.012..0.012 rows=11 loops=10)')]),\n",
       " RealDictRow([('QUERY PLAN',\n",
       "               '                    Index Cond: (user_id = b.user_id)')]),\n",
       " RealDictRow([('QUERY PLAN',\n",
       "               '              ->  Bitmap Index Scan on block11_tst  (cost=0.00..9041.62 rows=11 width=0) (actual time=25.094..25.094 rows=10 loops=10)')]),\n",
       " RealDictRow([('QUERY PLAN',\n",
       "               '                    Index Cond: ((user_name)::text = (b.user_name)::text)')]),\n",
       " RealDictRow([('QUERY PLAN', 'Planning Time: 0.600 ms')]),\n",
       " RealDictRow([('QUERY PLAN', 'Execution Time: 252.678 ms')])]"
      ]
     },
     "execution_count": 8,
     "metadata": {},
     "output_type": "execute_result"
    }
   ],
   "source": [
    "# Nested Loop join\n",
    "sql1 = \"\"\"explain  (analyze) \n",
    "select * \n",
    "from block51 a \n",
    "inner join block53 b  \n",
    "on a.user_id = b.user_id \n",
    "or a.user_name = b.user_name\"\"\"\n",
    "\n",
    "            \n",
    "libs.db_connection.select_data_dict_with_commit(sql1, [])"
   ]
  }
 ],
 "metadata": {
  "kernelspec": {
   "display_name": "Python 3 (ipykernel)",
   "language": "python",
   "name": "python3"
  },
  "language_info": {
   "codemirror_mode": {
    "name": "ipython",
    "version": 3
   },
   "file_extension": ".py",
   "mimetype": "text/x-python",
   "name": "python",
   "nbconvert_exporter": "python",
   "pygments_lexer": "ipython3",
   "version": "3.9.7"
  }
 },
 "nbformat": 4,
 "nbformat_minor": 5
}
