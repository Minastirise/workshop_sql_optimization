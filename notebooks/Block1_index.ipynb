{
 "cells": [
  {
   "cell_type": "code",
   "execution_count": 10,
   "id": "27cb823c",
   "metadata": {},
   "outputs": [
    {
     "data": {
      "text/plain": [
       "[RealDictRow([('QUERY PLAN',\n",
       "               'Gather  (cost=1000.00..116788.53 rows=102 width=17) (actual time=6.195..263.337 rows=77 loops=1)')]),\n",
       " RealDictRow([('QUERY PLAN', '  Workers Planned: 2')]),\n",
       " RealDictRow([('QUERY PLAN', '  Workers Launched: 2')]),\n",
       " RealDictRow([('QUERY PLAN',\n",
       "               '  ->  Parallel Seq Scan on block11  (cost=0.00..115778.33 rows=42 width=17) (actual time=13.608..237.837 rows=26 loops=3)')]),\n",
       " RealDictRow([('QUERY PLAN', '        Filter: (user_id = 5)')]),\n",
       " RealDictRow([('QUERY PLAN', '        Rows Removed by Filter: 3333308')]),\n",
       " RealDictRow([('QUERY PLAN', 'Planning Time: 0.207 ms')]),\n",
       " RealDictRow([('QUERY PLAN', 'JIT:')]),\n",
       " RealDictRow([('QUERY PLAN', '  Functions: 6')]),\n",
       " RealDictRow([('QUERY PLAN',\n",
       "               '  Options: Inlining false, Optimization false, Expressions true, Deforming true')]),\n",
       " RealDictRow([('QUERY PLAN',\n",
       "               '  Timing: Generation 1.050 ms, Inlining 0.000 ms, Optimization 0.744 ms, Emission 7.159 ms, Total 8.954 ms')]),\n",
       " RealDictRow([('QUERY PLAN', 'Execution Time: 290.782 ms')])]"
      ]
     },
     "execution_count": 10,
     "metadata": {},
     "output_type": "execute_result"
    }
   ],
   "source": [
    "\"\"\"\n",
    "Блок 1. Оптимизация с помощью индекса\n",
    "\"\"\"\n",
    "\n",
    "import libs.db_connection\n",
    "\n",
    "# Интересует конкретный пользователь\n",
    "sql1 = \"explain (analyze) select * from block11 where user_id = 5\"\n",
    "\n",
    "            \n",
    "libs.db_connection.select_data_dict_with_commit(sql1, [])"
   ]
  },
  {
   "cell_type": "code",
   "execution_count": 7,
   "id": "26ed4a26",
   "metadata": {},
   "outputs": [
    {
     "data": {
      "text/plain": [
       "[RealDictRow([('QUERY PLAN',\n",
       "               'Gather  (cost=1000.00..124707.13 rows=79288 width=17) (actual time=3.057..267.297 rows=90067 loops=1)')]),\n",
       " RealDictRow([('QUERY PLAN', '  Workers Planned: 2')]),\n",
       " RealDictRow([('QUERY PLAN', '  Workers Launched: 2')]),\n",
       " RealDictRow([('QUERY PLAN',\n",
       "               '  ->  Parallel Seq Scan on block11  (cost=0.00..115778.33 rows=33037 width=17) (actual time=2.580..240.860 rows=30022 loops=3)')]),\n",
       " RealDictRow([('QUERY PLAN', '        Filter: (category < 10)')]),\n",
       " RealDictRow([('QUERY PLAN', '        Rows Removed by Filter: 3303311')]),\n",
       " RealDictRow([('QUERY PLAN', 'Planning Time: 0.159 ms')]),\n",
       " RealDictRow([('QUERY PLAN', 'JIT:')]),\n",
       " RealDictRow([('QUERY PLAN', '  Functions: 6')]),\n",
       " RealDictRow([('QUERY PLAN',\n",
       "               '  Options: Inlining false, Optimization false, Expressions true, Deforming true')]),\n",
       " RealDictRow([('QUERY PLAN',\n",
       "               '  Timing: Generation 0.920 ms, Inlining 0.000 ms, Optimization 0.675 ms, Emission 6.621 ms, Total 8.216 ms')]),\n",
       " RealDictRow([('QUERY PLAN', 'Execution Time: 299.786 ms')])]"
      ]
     },
     "execution_count": 7,
     "metadata": {},
     "output_type": "execute_result"
    }
   ],
   "source": [
    "# Интересуют события у которых категория < 10\n",
    "sql1 = \"explain (analyze) select * from block11 where category < 10\"\n",
    "\n",
    "            \n",
    "libs.db_connection.select_data_dict_with_commit(sql1, [])"
   ]
  },
  {
   "cell_type": "code",
   "execution_count": 11,
   "id": "9cee3f8c",
   "metadata": {},
   "outputs": [],
   "source": [
    "# Создаем индекс\n",
    "sql1 = \"create index block1_user on block11 (user_id)\"\n",
    "\n",
    "            \n",
    "libs.db_connection.execute(sql1)"
   ]
  },
  {
   "cell_type": "code",
   "execution_count": 12,
   "id": "0398b515",
   "metadata": {},
   "outputs": [
    {
     "data": {
      "text/plain": [
       "[RealDictRow([('QUERY PLAN',\n",
       "               'Bitmap Heap Scan on block11  (cost=5.23..402.26 rows=102 width=17) (actual time=0.153..0.248 rows=77 loops=1)')]),\n",
       " RealDictRow([('QUERY PLAN', '  Recheck Cond: (user_id = 5)')]),\n",
       " RealDictRow([('QUERY PLAN', '  Heap Blocks: exact=77')]),\n",
       " RealDictRow([('QUERY PLAN',\n",
       "               '  ->  Bitmap Index Scan on block1_user  (cost=0.00..5.20 rows=102 width=0) (actual time=0.140..0.141 rows=77 loops=1)')]),\n",
       " RealDictRow([('QUERY PLAN', '        Index Cond: (user_id = 5)')]),\n",
       " RealDictRow([('QUERY PLAN', 'Planning Time: 0.431 ms')]),\n",
       " RealDictRow([('QUERY PLAN', 'Execution Time: 0.476 ms')])]"
      ]
     },
     "execution_count": 12,
     "metadata": {},
     "output_type": "execute_result"
    }
   ],
   "source": [
    "# Как стало\n",
    "sql1 = \"explain (analyze) select * from block11 where user_id = 5\"\n",
    "\n",
    "            \n",
    "libs.db_connection.select_data_dict_with_commit(sql1, [])"
   ]
  },
  {
   "cell_type": "code",
   "execution_count": 13,
   "id": "291ccefa",
   "metadata": {},
   "outputs": [
    {
     "data": {
      "text/plain": [
       "[RealDictRow([('QUERY PLAN',\n",
       "               'Gather  (cost=1000.00..124707.13 rows=79288 width=17) (actual time=3.023..284.700 rows=90067 loops=1)')]),\n",
       " RealDictRow([('QUERY PLAN', '  Workers Planned: 2')]),\n",
       " RealDictRow([('QUERY PLAN', '  Workers Launched: 2')]),\n",
       " RealDictRow([('QUERY PLAN',\n",
       "               '  ->  Parallel Seq Scan on block11  (cost=0.00..115778.33 rows=33037 width=17) (actual time=3.447..255.068 rows=30022 loops=3)')]),\n",
       " RealDictRow([('QUERY PLAN', '        Filter: (category < 10)')]),\n",
       " RealDictRow([('QUERY PLAN', '        Rows Removed by Filter: 3303311')]),\n",
       " RealDictRow([('QUERY PLAN', 'Planning Time: 0.269 ms')]),\n",
       " RealDictRow([('QUERY PLAN', 'JIT:')]),\n",
       " RealDictRow([('QUERY PLAN', '  Functions: 6')]),\n",
       " RealDictRow([('QUERY PLAN',\n",
       "               '  Options: Inlining false, Optimization false, Expressions true, Deforming true')]),\n",
       " RealDictRow([('QUERY PLAN',\n",
       "               '  Timing: Generation 1.154 ms, Inlining 0.000 ms, Optimization 0.849 ms, Emission 8.820 ms, Total 10.823 ms')]),\n",
       " RealDictRow([('QUERY PLAN', 'Execution Time: 315.235 ms')])]"
      ]
     },
     "execution_count": 13,
     "metadata": {},
     "output_type": "execute_result"
    }
   ],
   "source": [
    "# А что с категориями ?\n",
    "sql1 = \"explain (analyze) select * from block11 where category < 10\"\n",
    "\n",
    "            \n",
    "libs.db_connection.select_data_dict_with_commit(sql1, [])"
   ]
  },
  {
   "cell_type": "code",
   "execution_count": 14,
   "id": "315cda63",
   "metadata": {},
   "outputs": [],
   "source": [
    "# создаем индекс для категорий\n",
    "\n",
    "sql1 = \"create index block1_category on block11 (category)\"\n",
    "\n",
    "            \n",
    "libs.db_connection.execute(sql1)"
   ]
  },
  {
   "cell_type": "code",
   "execution_count": 16,
   "id": "c0175c70",
   "metadata": {},
   "outputs": [
    {
     "data": {
      "text/plain": [
       "[RealDictRow([('QUERY PLAN',\n",
       "               'Bitmap Heap Scan on block11  (cost=886.92..68938.24 rows=79288 width=17) (actual time=21.682..207.932 rows=90067 loops=1)')]),\n",
       " RealDictRow([('QUERY PLAN', '  Recheck Cond: (category < 10)')]),\n",
       " RealDictRow([('QUERY PLAN', '  Heap Blocks: exact=48332')]),\n",
       " RealDictRow([('QUERY PLAN',\n",
       "               '  ->  Bitmap Index Scan on block1_category  (cost=0.00..867.09 rows=79288 width=0) (actual time=12.968..12.968 rows=90067 loops=1)')]),\n",
       " RealDictRow([('QUERY PLAN', '        Index Cond: (category < 10)')]),\n",
       " RealDictRow([('QUERY PLAN', 'Planning Time: 2.179 ms')]),\n",
       " RealDictRow([('QUERY PLAN', 'Execution Time: 211.984 ms')])]"
      ]
     },
     "execution_count": 16,
     "metadata": {},
     "output_type": "execute_result"
    }
   ],
   "source": [
    "# Как теперь работает запрос по категориям\n",
    "\n",
    "sql1 = \"explain (analyze) select * from block11 where category < 10\"\n",
    "\n",
    "            \n",
    "libs.db_connection.select_data_dict_with_commit(sql1, [])"
   ]
  },
  {
   "cell_type": "code",
   "execution_count": 17,
   "id": "e47cbb98",
   "metadata": {},
   "outputs": [],
   "source": [
    "# Удаляем индекс для категории\n",
    "\n",
    "sql1 = \"drop index block1_category\"\n",
    "libs.db_connection.execute(sql1)"
   ]
  },
  {
   "cell_type": "code",
   "execution_count": 19,
   "id": "704e75bd",
   "metadata": {},
   "outputs": [
    {
     "data": {
      "text/plain": [
       "[RealDictRow([('QUERY PLAN',\n",
       "               'Gather  (cost=1000.00..127571.60 rows=3766 width=17) (actual time=3.775..284.895 rows=4511 loops=1)')]),\n",
       " RealDictRow([('QUERY PLAN', '  Workers Planned: 2')]),\n",
       " RealDictRow([('QUERY PLAN', '  Workers Launched: 2')]),\n",
       " RealDictRow([('QUERY PLAN',\n",
       "               '  ->  Parallel Seq Scan on block11  (cost=0.00..126195.00 rows=1569 width=17) (actual time=3.015..263.193 rows=1504 loops=3)')]),\n",
       " RealDictRow([('QUERY PLAN',\n",
       "               \"        Filter: ((category < 10) AND ((type)::text = 'click'::text))\")]),\n",
       " RealDictRow([('QUERY PLAN', '        Rows Removed by Filter: 3331830')]),\n",
       " RealDictRow([('QUERY PLAN', 'Planning Time: 0.346 ms')]),\n",
       " RealDictRow([('QUERY PLAN', 'JIT:')]),\n",
       " RealDictRow([('QUERY PLAN', '  Functions: 6')]),\n",
       " RealDictRow([('QUERY PLAN',\n",
       "               '  Options: Inlining false, Optimization false, Expressions true, Deforming true')]),\n",
       " RealDictRow([('QUERY PLAN',\n",
       "               '  Timing: Generation 0.911 ms, Inlining 0.000 ms, Optimization 0.713 ms, Emission 7.023 ms, Total 8.647 ms')]),\n",
       " RealDictRow([('QUERY PLAN', 'Execution Time: 313.875 ms')])]"
      ]
     },
     "execution_count": 19,
     "metadata": {},
     "output_type": "execute_result"
    }
   ],
   "source": [
    "# Составной индекс (Multicolumn index)\n",
    "\n",
    "sql1 = \"explain (analyze) select * from block11 where category < 10 and type = 'click'\"\n",
    "            \n",
    "libs.db_connection.select_data_dict_with_commit(sql1, [])"
   ]
  },
  {
   "cell_type": "code",
   "execution_count": 20,
   "id": "7b506d16",
   "metadata": {},
   "outputs": [],
   "source": [
    "# Создаем составной индекс для группы и типа события\n",
    "\n",
    "sql1 = \"create index block1_category_type on block11 (category, type)\"\n",
    "            \n",
    "libs.db_connection.execute(sql1)"
   ]
  },
  {
   "cell_type": "code",
   "execution_count": 21,
   "id": "6f34b526",
   "metadata": {},
   "outputs": [
    {
     "data": {
      "text/plain": [
       "[RealDictRow([('QUERY PLAN',\n",
       "               'Bitmap Heap Scan on block11  (cost=1070.26..13128.88 rows=3766 width=17) (actual time=1.830..29.444 rows=4511 loops=1)')]),\n",
       " RealDictRow([('QUERY PLAN',\n",
       "               \"  Recheck Cond: ((category < 10) AND ((type)::text = 'click'::text))\")]),\n",
       " RealDictRow([('QUERY PLAN', '  Heap Blocks: exact=4357')]),\n",
       " RealDictRow([('QUERY PLAN',\n",
       "               '  ->  Bitmap Index Scan on block1_category_type  (cost=0.00..1069.32 rows=3766 width=0) (actual time=1.203..1.204 rows=4511 loops=1)')]),\n",
       " RealDictRow([('QUERY PLAN',\n",
       "               \"        Index Cond: ((category < 10) AND ((type)::text = 'click'::text))\")]),\n",
       " RealDictRow([('QUERY PLAN', 'Planning Time: 0.611 ms')]),\n",
       " RealDictRow([('QUERY PLAN', 'Execution Time: 29.735 ms')])]"
      ]
     },
     "execution_count": 21,
     "metadata": {},
     "output_type": "execute_result"
    }
   ],
   "source": [
    "# Как теперь работает запрос с фильтром по 2 полям\n",
    "\n",
    "sql1 = \"explain (analyze) select * from block11 where category < 10 and type = 'click'\"\n",
    "\n",
    "            \n",
    "libs.db_connection.select_data_dict_with_commit(sql1, [])"
   ]
  },
  {
   "cell_type": "code",
   "execution_count": 22,
   "id": "f716b2c1",
   "metadata": {},
   "outputs": [],
   "source": [
    "# Удаляем составной индекс\n",
    "\n",
    "sql1 = \"drop index block1_category_type\"\n",
    "libs.db_connection.execute(sql1)"
   ]
  },
  {
   "cell_type": "code",
   "execution_count": 24,
   "id": "0ba3273c",
   "metadata": {},
   "outputs": [
    {
     "data": {
      "text/plain": [
       "[RealDictRow([('QUERY PLAN',\n",
       "               'Seq Scan on block11  (cost=0.00..188695.00 rows=9525000 width=17) (actual time=3.189..1033.516 rows=9499633 loops=1)')]),\n",
       " RealDictRow([('QUERY PLAN', \"  Filter: ((type)::text = 'show'::text)\")]),\n",
       " RealDictRow([('QUERY PLAN', '  Rows Removed by Filter: 500367')]),\n",
       " RealDictRow([('QUERY PLAN', 'Planning Time: 0.247 ms')]),\n",
       " RealDictRow([('QUERY PLAN', 'JIT:')]),\n",
       " RealDictRow([('QUERY PLAN', '  Functions: 2')]),\n",
       " RealDictRow([('QUERY PLAN',\n",
       "               '  Options: Inlining false, Optimization false, Expressions true, Deforming true')]),\n",
       " RealDictRow([('QUERY PLAN',\n",
       "               '  Timing: Generation 0.403 ms, Inlining 0.000 ms, Optimization 0.632 ms, Emission 2.316 ms, Total 3.352 ms')]),\n",
       " RealDictRow([('QUERY PLAN', 'Execution Time: 1275.498 ms')])]"
      ]
     },
     "execution_count": 24,
     "metadata": {},
     "output_type": "execute_result"
    }
   ],
   "source": [
    "# Плохая селективность (часть 1)\n",
    "\n",
    "sql1 = \"explain (analyze) select * from block11 where type = 'show'\"\n",
    "libs.db_connection.select_data_dict_with_commit(sql1, [])\n"
   ]
  },
  {
   "cell_type": "code",
   "execution_count": 25,
   "id": "b138287e",
   "metadata": {},
   "outputs": [],
   "source": [
    "# Плохая селективность (часть 2)\n",
    "sql1 = \"create index block1_type2 on block11 (type)\"\n",
    "libs.db_connection.execute(sql1)"
   ]
  },
  {
   "cell_type": "code",
   "execution_count": 26,
   "id": "af7716ee",
   "metadata": {},
   "outputs": [
    {
     "data": {
      "text/plain": [
       "[RealDictRow([('QUERY PLAN',\n",
       "               'Seq Scan on block11  (cost=0.00..188695.00 rows=9525000 width=17) (actual time=2.521..1002.703 rows=9499633 loops=1)')]),\n",
       " RealDictRow([('QUERY PLAN', \"  Filter: ((type)::text = 'show'::text)\")]),\n",
       " RealDictRow([('QUERY PLAN', '  Rows Removed by Filter: 500367')]),\n",
       " RealDictRow([('QUERY PLAN', 'Planning Time: 1.555 ms')]),\n",
       " RealDictRow([('QUERY PLAN', 'JIT:')]),\n",
       " RealDictRow([('QUERY PLAN', '  Functions: 2')]),\n",
       " RealDictRow([('QUERY PLAN',\n",
       "               '  Options: Inlining false, Optimization false, Expressions true, Deforming true')]),\n",
       " RealDictRow([('QUERY PLAN',\n",
       "               '  Timing: Generation 0.326 ms, Inlining 0.000 ms, Optimization 0.228 ms, Emission 2.133 ms, Total 2.686 ms')]),\n",
       " RealDictRow([('QUERY PLAN', 'Execution Time: 1230.457 ms')])]"
      ]
     },
     "execution_count": 26,
     "metadata": {},
     "output_type": "execute_result"
    }
   ],
   "source": [
    "# Плохая селективность (часть 1)\n",
    "\n",
    "sql1 = \"explain (analyze) select * from block11 where type = 'show'\"\n",
    "libs.db_connection.select_data_dict_with_commit(sql1, [])\n"
   ]
  },
  {
   "cell_type": "code",
   "execution_count": 17,
   "id": "771cf5f6",
   "metadata": {
    "collapsed": true
   },
   "outputs": [
    {
     "data": {
      "text/plain": [
       "[RealDictRow([('QUERY PLAN',\n",
       "               'Finalize GroupAggregate  (cost=127195.06..127195.56 rows=2 width=13) (actual time=1176.815..1180.898 rows=2 loops=1)')]),\n",
       " RealDictRow([('QUERY PLAN', '  Group Key: type')]),\n",
       " RealDictRow([('QUERY PLAN',\n",
       "               '  ->  Gather Merge  (cost=127195.06..127195.52 rows=4 width=13) (actual time=1176.807..1180.890 rows=6 loops=1)')]),\n",
       " RealDictRow([('QUERY PLAN', '        Workers Planned: 2')]),\n",
       " RealDictRow([('QUERY PLAN', '        Workers Launched: 2')]),\n",
       " RealDictRow([('QUERY PLAN',\n",
       "               '        ->  Sort  (cost=126195.03..126195.04 rows=2 width=13) (actual time=1146.315..1146.316 rows=2 loops=3)')]),\n",
       " RealDictRow([('QUERY PLAN', '              Sort Key: type')]),\n",
       " RealDictRow([('QUERY PLAN',\n",
       "               '              Sort Method: quicksort  Memory: 25kB')]),\n",
       " RealDictRow([('QUERY PLAN',\n",
       "               '              Worker 0:  Sort Method: quicksort  Memory: 25kB')]),\n",
       " RealDictRow([('QUERY PLAN',\n",
       "               '              Worker 1:  Sort Method: quicksort  Memory: 25kB')]),\n",
       " RealDictRow([('QUERY PLAN',\n",
       "               '              ->  Partial HashAggregate  (cost=126195.00..126195.02 rows=2 width=13) (actual time=1146.280..1146.282 rows=2 loops=3)')]),\n",
       " RealDictRow([('QUERY PLAN', '                    Group Key: type')]),\n",
       " RealDictRow([('QUERY PLAN',\n",
       "               '                    Batches: 1  Memory Usage: 24kB')]),\n",
       " RealDictRow([('QUERY PLAN',\n",
       "               '                    Worker 0:  Batches: 1  Memory Usage: 24kB')]),\n",
       " RealDictRow([('QUERY PLAN',\n",
       "               '                    Worker 1:  Batches: 1  Memory Usage: 24kB')]),\n",
       " RealDictRow([('QUERY PLAN',\n",
       "               '                    ->  Parallel Seq Scan on block11  (cost=0.00..105361.67 rows=4166667 width=5) (actual time=0.018..305.641 rows=3333333 loops=3)')]),\n",
       " RealDictRow([('QUERY PLAN', 'Planning Time: 0.281 ms')]),\n",
       " RealDictRow([('QUERY PLAN', 'JIT:')]),\n",
       " RealDictRow([('QUERY PLAN', '  Functions: 21')]),\n",
       " RealDictRow([('QUERY PLAN',\n",
       "               '  Options: Inlining false, Optimization false, Expressions true, Deforming true')]),\n",
       " RealDictRow([('QUERY PLAN',\n",
       "               '  Timing: Generation 2.312 ms, Inlining 0.000 ms, Optimization 1.126 ms, Emission 19.887 ms, Total 23.326 ms')]),\n",
       " RealDictRow([('QUERY PLAN', 'Execution Time: 1213.095 ms')])]"
      ]
     },
     "execution_count": 17,
     "metadata": {},
     "output_type": "execute_result"
    }
   ],
   "source": [
    "# Плохая селективность (часть 3)\n",
    "\n",
    "sql1 = \"explain (analyze) select type, count(1) from block11 group by type\"\n",
    "libs.db_connection.select_data_dict_with_commit(sql1, [])"
   ]
  },
  {
   "cell_type": "code",
   "execution_count": 29,
   "id": "eda1dacb",
   "metadata": {},
   "outputs": [
    {
     "data": {
      "text/plain": [
       "[RealDictRow([('QUERY PLAN',\n",
       "               'Gather  (cost=1000.00..116778.43 rows=1 width=21) (actual time=300.887..303.255 rows=0 loops=1)')]),\n",
       " RealDictRow([('QUERY PLAN', '  Workers Planned: 2')]),\n",
       " RealDictRow([('QUERY PLAN', '  Workers Launched: 2')]),\n",
       " RealDictRow([('QUERY PLAN',\n",
       "               '  ->  Parallel Seq Scan on task1  (cost=0.00..115778.33 rows=1 width=21) (actual time=280.790..280.791 rows=0 loops=3)')]),\n",
       " RealDictRow([('QUERY PLAN',\n",
       "               \"        Filter: (dt = '2022-05-19 00:00:00+00'::timestamp with time zone)\")]),\n",
       " RealDictRow([('QUERY PLAN', '        Rows Removed by Filter: 3333333')]),\n",
       " RealDictRow([('QUERY PLAN', 'Planning Time: 0.243 ms')]),\n",
       " RealDictRow([('QUERY PLAN', 'JIT:')]),\n",
       " RealDictRow([('QUERY PLAN', '  Functions: 6')]),\n",
       " RealDictRow([('QUERY PLAN',\n",
       "               '  Options: Inlining false, Optimization false, Expressions true, Deforming true')]),\n",
       " RealDictRow([('QUERY PLAN',\n",
       "               '  Timing: Generation 1.119 ms, Inlining 0.000 ms, Optimization 0.843 ms, Emission 7.927 ms, Total 9.889 ms')]),\n",
       " RealDictRow([('QUERY PLAN', 'Execution Time: 333.710 ms')])]"
      ]
     },
     "execution_count": 29,
     "metadata": {},
     "output_type": "execute_result"
    }
   ],
   "source": [
    "# Задание: Нам нужно загрузить таблицу из источника. \n",
    "# При этом забирать ее будем инкрементально каждый день за прошлые сутки \n",
    "# селект уже есть мы его попробовали, но он что-то тормозит, нужно посмотреть, можно ли его ускорить\n",
    "\n",
    "sql = \"explain (analyze) select * from task1 where dt = '2022-05-19 00:00:00'\"\n",
    "libs.db_connection.select_data_dict_with_commit(sql, [])\n"
   ]
  },
  {
   "cell_type": "code",
   "execution_count": 30,
   "id": "ec2cca8a",
   "metadata": {},
   "outputs": [],
   "source": [
    "sql1 = \"create index task1_test on task1 (dt)\"\n",
    "libs.db_connection.execute(sql1)"
   ]
  },
  {
   "cell_type": "code",
   "execution_count": 31,
   "id": "628b0e8c",
   "metadata": {},
   "outputs": [
    {
     "data": {
      "text/plain": [
       "[RealDictRow([('QUERY PLAN',\n",
       "               'Index Scan using task1_test on task1  (cost=0.43..8.45 rows=1 width=21) (actual time=0.020..0.021 rows=0 loops=1)')]),\n",
       " RealDictRow([('QUERY PLAN',\n",
       "               \"  Index Cond: (dt = '2022-05-19 00:00:00+00'::timestamp with time zone)\")]),\n",
       " RealDictRow([('QUERY PLAN', 'Planning Time: 0.419 ms')]),\n",
       " RealDictRow([('QUERY PLAN', 'Execution Time: 0.055 ms')])]"
      ]
     },
     "execution_count": 31,
     "metadata": {},
     "output_type": "execute_result"
    }
   ],
   "source": [
    "# Как сейчас стало\n",
    "\n",
    "sql = \"explain (analyze) select * from task1 where dt = '2022-05-19 00:00:00'\"\n",
    "libs.db_connection.select_data_dict_with_commit(sql, [])"
   ]
  }
 ],
 "metadata": {
  "kernelspec": {
   "display_name": "Python 3 (ipykernel)",
   "language": "python",
   "name": "python3"
  },
  "language_info": {
   "codemirror_mode": {
    "name": "ipython",
    "version": 3
   },
   "file_extension": ".py",
   "mimetype": "text/x-python",
   "name": "python",
   "nbconvert_exporter": "python",
   "pygments_lexer": "ipython3",
   "version": "3.9.7"
  }
 },
 "nbformat": 4,
 "nbformat_minor": 5
}
