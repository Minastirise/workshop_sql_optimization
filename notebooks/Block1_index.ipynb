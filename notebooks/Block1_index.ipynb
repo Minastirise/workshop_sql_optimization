{
 "cells": [
  {
   "cell_type": "code",
   "execution_count": 32,
   "id": "27cb823c",
   "metadata": {},
   "outputs": [
    {
     "data": {
      "text/plain": [
       "[RealDictRow([('QUERY PLAN',\n",
       "               'Bitmap Heap Scan on block11  (cost=5.23..402.26 rows=102 width=17) (actual time=0.047..0.358 rows=77 loops=1)')]),\n",
       " RealDictRow([('QUERY PLAN', '  Recheck Cond: (user_id = 5)')]),\n",
       " RealDictRow([('QUERY PLAN', '  Heap Blocks: exact=77')]),\n",
       " RealDictRow([('QUERY PLAN',\n",
       "               '  ->  Bitmap Index Scan on block1_user  (cost=0.00..5.20 rows=102 width=0) (actual time=0.032..0.032 rows=77 loops=1)')]),\n",
       " RealDictRow([('QUERY PLAN', '        Index Cond: (user_id = 5)')]),\n",
       " RealDictRow([('QUERY PLAN', 'Planning Time: 0.348 ms')]),\n",
       " RealDictRow([('QUERY PLAN', 'Execution Time: 0.424 ms')])]"
      ]
     },
     "execution_count": 32,
     "metadata": {},
     "output_type": "execute_result"
    }
   ],
   "source": [
    "\"\"\"\n",
    "Блок 1. Оптимизация с помощью индекса\n",
    "\"\"\"\n",
    "\n",
    "import libs.db_connection\n",
    "\n",
    "# Интересует конкретный пользователь\n",
    "sql1 = \"explain (analyze) select * from block11 where user_id = 5\"\n",
    "\n",
    "            \n",
    "libs.db_connection.select_data_dict_with_commit(sql1, [])"
   ]
  },
  {
   "cell_type": "code",
   "execution_count": 3,
   "id": "26ed4a26",
   "metadata": {},
   "outputs": [
    {
     "data": {
      "text/plain": [
       "[RealDictRow([('QUERY PLAN',\n",
       "               'Gather  (cost=1000.00..124706.36 rows=79287 width=17) (actual time=3.618..320.126 rows=90067 loops=1)')]),\n",
       " RealDictRow([('QUERY PLAN', '  Workers Planned: 2')]),\n",
       " RealDictRow([('QUERY PLAN', '  Workers Launched: 2')]),\n",
       " RealDictRow([('QUERY PLAN',\n",
       "               '  ->  Parallel Seq Scan on block11  (cost=0.00..115777.66 rows=33036 width=17) (actual time=3.402..285.003 rows=30022 loops=3)')]),\n",
       " RealDictRow([('QUERY PLAN', '        Filter: (category < 10)')]),\n",
       " RealDictRow([('QUERY PLAN', '        Rows Removed by Filter: 3303311')]),\n",
       " RealDictRow([('QUERY PLAN', 'Planning Time: 0.119 ms')]),\n",
       " RealDictRow([('QUERY PLAN', 'JIT:')]),\n",
       " RealDictRow([('QUERY PLAN', '  Functions: 6')]),\n",
       " RealDictRow([('QUERY PLAN',\n",
       "               '  Options: Inlining false, Optimization false, Expressions true, Deforming true')]),\n",
       " RealDictRow([('QUERY PLAN',\n",
       "               '  Timing: Generation 1.132 ms, Inlining 0.000 ms, Optimization 0.771 ms, Emission 8.848 ms, Total 10.751 ms')]),\n",
       " RealDictRow([('QUERY PLAN', 'Execution Time: 366.504 ms')])]"
      ]
     },
     "execution_count": 3,
     "metadata": {},
     "output_type": "execute_result"
    }
   ],
   "source": [
    "# Интересуют события у которых категория < 10\n",
    "sql1 = \"explain (analyze) select * from block11 where category < 10\"\n",
    "\n",
    "            \n",
    "libs.db_connection.select_data_dict_with_commit(sql1, [])"
   ]
  },
  {
   "cell_type": "code",
   "execution_count": 4,
   "id": "9cee3f8c",
   "metadata": {},
   "outputs": [],
   "source": [
    "# Создаем индекс\n",
    "sql1 = \"create index block1_user on block11 (user_id)\"\n",
    "\n",
    "            \n",
    "libs.db_connection.execute(sql1)"
   ]
  },
  {
   "cell_type": "code",
   "execution_count": 5,
   "id": "0398b515",
   "metadata": {},
   "outputs": [
    {
     "data": {
      "text/plain": [
       "[RealDictRow([('QUERY PLAN',\n",
       "               'Bitmap Heap Scan on block11  (cost=5.23..402.26 rows=102 width=17) (actual time=0.067..2.025 rows=77 loops=1)')]),\n",
       " RealDictRow([('QUERY PLAN', '  Recheck Cond: (user_id = 5)')]),\n",
       " RealDictRow([('QUERY PLAN', '  Heap Blocks: exact=77')]),\n",
       " RealDictRow([('QUERY PLAN',\n",
       "               '  ->  Bitmap Index Scan on block1_user  (cost=0.00..5.20 rows=102 width=0) (actual time=0.045..0.046 rows=77 loops=1)')]),\n",
       " RealDictRow([('QUERY PLAN', '        Index Cond: (user_id = 5)')]),\n",
       " RealDictRow([('QUERY PLAN', 'Planning Time: 0.453 ms')]),\n",
       " RealDictRow([('QUERY PLAN', 'Execution Time: 2.102 ms')])]"
      ]
     },
     "execution_count": 5,
     "metadata": {},
     "output_type": "execute_result"
    }
   ],
   "source": [
    "# Как стало\n",
    "sql1 = \"explain (analyze) select * from block11 where user_id = 5\"\n",
    "\n",
    "            \n",
    "libs.db_connection.select_data_dict_with_commit(sql1, [])"
   ]
  },
  {
   "cell_type": "code",
   "execution_count": 6,
   "id": "291ccefa",
   "metadata": {},
   "outputs": [
    {
     "data": {
      "text/plain": [
       "[RealDictRow([('QUERY PLAN',\n",
       "               'Gather  (cost=1000.00..124707.13 rows=79288 width=17) (actual time=2.760..284.136 rows=90067 loops=1)')]),\n",
       " RealDictRow([('QUERY PLAN', '  Workers Planned: 2')]),\n",
       " RealDictRow([('QUERY PLAN', '  Workers Launched: 2')]),\n",
       " RealDictRow([('QUERY PLAN',\n",
       "               '  ->  Parallel Seq Scan on block11  (cost=0.00..115778.33 rows=33037 width=17) (actual time=2.954..254.674 rows=30022 loops=3)')]),\n",
       " RealDictRow([('QUERY PLAN', '        Filter: (category < 10)')]),\n",
       " RealDictRow([('QUERY PLAN', '        Rows Removed by Filter: 3303311')]),\n",
       " RealDictRow([('QUERY PLAN', 'Planning Time: 0.187 ms')]),\n",
       " RealDictRow([('QUERY PLAN', 'JIT:')]),\n",
       " RealDictRow([('QUERY PLAN', '  Functions: 6')]),\n",
       " RealDictRow([('QUERY PLAN',\n",
       "               '  Options: Inlining false, Optimization false, Expressions true, Deforming true')]),\n",
       " RealDictRow([('QUERY PLAN',\n",
       "               '  Timing: Generation 1.092 ms, Inlining 0.000 ms, Optimization 0.733 ms, Emission 7.665 ms, Total 9.490 ms')]),\n",
       " RealDictRow([('QUERY PLAN', 'Execution Time: 319.683 ms')])]"
      ]
     },
     "execution_count": 6,
     "metadata": {},
     "output_type": "execute_result"
    }
   ],
   "source": [
    "# А что с категориями ?\n",
    "sql1 = \"explain (analyze) select * from block11 where category < 10\"\n",
    "\n",
    "            \n",
    "libs.db_connection.select_data_dict_with_commit(sql1, [])"
   ]
  },
  {
   "cell_type": "code",
   "execution_count": 7,
   "id": "315cda63",
   "metadata": {},
   "outputs": [],
   "source": [
    "# создаем индекс для категорий\n",
    "\n",
    "sql1 = \"create index block1_category on block11 (category)\"\n",
    "\n",
    "            \n",
    "libs.db_connection.execute(sql1)"
   ]
  },
  {
   "cell_type": "code",
   "execution_count": 8,
   "id": "c0175c70",
   "metadata": {},
   "outputs": [
    {
     "data": {
      "text/plain": [
       "[RealDictRow([('QUERY PLAN',\n",
       "               'Bitmap Heap Scan on block11  (cost=886.92..68938.24 rows=79288 width=17) (actual time=23.109..226.283 rows=90067 loops=1)')]),\n",
       " RealDictRow([('QUERY PLAN', '  Recheck Cond: (category < 10)')]),\n",
       " RealDictRow([('QUERY PLAN', '  Heap Blocks: exact=48332')]),\n",
       " RealDictRow([('QUERY PLAN',\n",
       "               '  ->  Bitmap Index Scan on block1_category  (cost=0.00..867.09 rows=79288 width=0) (actual time=10.389..10.389 rows=90067 loops=1)')]),\n",
       " RealDictRow([('QUERY PLAN', '        Index Cond: (category < 10)')]),\n",
       " RealDictRow([('QUERY PLAN', 'Planning Time: 1.044 ms')]),\n",
       " RealDictRow([('QUERY PLAN', 'Execution Time: 230.559 ms')])]"
      ]
     },
     "execution_count": 8,
     "metadata": {},
     "output_type": "execute_result"
    }
   ],
   "source": [
    "# Как теперь работает запрос по категориям\n",
    "\n",
    "sql1 = \"explain (analyze) select * from block11 where category < 10\"\n",
    "\n",
    "            \n",
    "libs.db_connection.select_data_dict_with_commit(sql1, [])"
   ]
  },
  {
   "cell_type": "code",
   "execution_count": 9,
   "id": "e47cbb98",
   "metadata": {},
   "outputs": [],
   "source": [
    "# Удаляем индекс для категории\n",
    "\n",
    "sql1 = \"drop index block1_category\"\n",
    "libs.db_connection.execute(sql1)"
   ]
  },
  {
   "cell_type": "code",
   "execution_count": 10,
   "id": "704e75bd",
   "metadata": {},
   "outputs": [
    {
     "data": {
      "text/plain": [
       "[RealDictRow([('QUERY PLAN',\n",
       "               'Gather  (cost=1000.00..127571.60 rows=3766 width=17) (actual time=4.346..299.991 rows=4511 loops=1)')]),\n",
       " RealDictRow([('QUERY PLAN', '  Workers Planned: 2')]),\n",
       " RealDictRow([('QUERY PLAN', '  Workers Launched: 2')]),\n",
       " RealDictRow([('QUERY PLAN',\n",
       "               '  ->  Parallel Seq Scan on block11  (cost=0.00..126195.00 rows=1569 width=17) (actual time=3.143..274.260 rows=1504 loops=3)')]),\n",
       " RealDictRow([('QUERY PLAN',\n",
       "               \"        Filter: ((category < 10) AND ((type)::text = 'click'::text))\")]),\n",
       " RealDictRow([('QUERY PLAN', '        Rows Removed by Filter: 3331830')]),\n",
       " RealDictRow([('QUERY PLAN', 'Planning Time: 0.353 ms')]),\n",
       " RealDictRow([('QUERY PLAN', 'JIT:')]),\n",
       " RealDictRow([('QUERY PLAN', '  Functions: 6')]),\n",
       " RealDictRow([('QUERY PLAN',\n",
       "               '  Options: Inlining false, Optimization false, Expressions true, Deforming true')]),\n",
       " RealDictRow([('QUERY PLAN',\n",
       "               '  Timing: Generation 0.900 ms, Inlining 0.000 ms, Optimization 0.633 ms, Emission 7.847 ms, Total 9.380 ms')]),\n",
       " RealDictRow([('QUERY PLAN', 'Execution Time: 327.198 ms')])]"
      ]
     },
     "execution_count": 10,
     "metadata": {},
     "output_type": "execute_result"
    }
   ],
   "source": [
    "# Составной индекс (Multicolumn index)\n",
    "\n",
    "sql1 = \"explain (analyze) select * from block11 where category < 10 and type = 'click'\"\n",
    "            \n",
    "libs.db_connection.select_data_dict_with_commit(sql1, [])"
   ]
  },
  {
   "cell_type": "code",
   "execution_count": 11,
   "id": "7b506d16",
   "metadata": {},
   "outputs": [],
   "source": [
    "# Создаем составной индекс для группы и типа события\n",
    "\n",
    "sql1 = \"create index block1_category_type on block11 (category, type)\"\n",
    "            \n",
    "libs.db_connection.execute(sql1)"
   ]
  },
  {
   "cell_type": "code",
   "execution_count": 12,
   "id": "6f34b526",
   "metadata": {},
   "outputs": [
    {
     "data": {
      "text/plain": [
       "[RealDictRow([('QUERY PLAN',\n",
       "               'Bitmap Heap Scan on block11  (cost=1070.26..13128.88 rows=3766 width=17) (actual time=2.180..26.653 rows=4511 loops=1)')]),\n",
       " RealDictRow([('QUERY PLAN',\n",
       "               \"  Recheck Cond: ((category < 10) AND ((type)::text = 'click'::text))\")]),\n",
       " RealDictRow([('QUERY PLAN', '  Heap Blocks: exact=4357')]),\n",
       " RealDictRow([('QUERY PLAN',\n",
       "               '  ->  Bitmap Index Scan on block1_category_type  (cost=0.00..1069.32 rows=3766 width=0) (actual time=1.520..1.521 rows=4511 loops=1)')]),\n",
       " RealDictRow([('QUERY PLAN',\n",
       "               \"        Index Cond: ((category < 10) AND ((type)::text = 'click'::text))\")]),\n",
       " RealDictRow([('QUERY PLAN', 'Planning Time: 0.412 ms')]),\n",
       " RealDictRow([('QUERY PLAN', 'Execution Time: 26.989 ms')])]"
      ]
     },
     "execution_count": 12,
     "metadata": {},
     "output_type": "execute_result"
    }
   ],
   "source": [
    "# Как теперь работает запрос с фильтром по 2 полям\n",
    "\n",
    "sql1 = \"explain (analyze) select * from block11 where category < 10 and type = 'click'\"\n",
    "\n",
    "            \n",
    "libs.db_connection.select_data_dict_with_commit(sql1, [])"
   ]
  },
  {
   "cell_type": "code",
   "execution_count": 13,
   "id": "f716b2c1",
   "metadata": {},
   "outputs": [],
   "source": [
    "# Удаляем составной индекс\n",
    "\n",
    "sql1 = \"drop index block1_category_type\"\n",
    "libs.db_connection.execute(sql1)"
   ]
  },
  {
   "cell_type": "code",
   "execution_count": 14,
   "id": "0ba3273c",
   "metadata": {},
   "outputs": [
    {
     "data": {
      "text/plain": [
       "[RealDictRow([('QUERY PLAN',\n",
       "               'Seq Scan on block11  (cost=0.00..188695.00 rows=9525000 width=17) (actual time=3.048..1057.816 rows=9499633 loops=1)')]),\n",
       " RealDictRow([('QUERY PLAN', \"  Filter: ((type)::text = 'show'::text)\")]),\n",
       " RealDictRow([('QUERY PLAN', '  Rows Removed by Filter: 500367')]),\n",
       " RealDictRow([('QUERY PLAN', 'Planning Time: 0.443 ms')]),\n",
       " RealDictRow([('QUERY PLAN', 'JIT:')]),\n",
       " RealDictRow([('QUERY PLAN', '  Functions: 2')]),\n",
       " RealDictRow([('QUERY PLAN',\n",
       "               '  Options: Inlining false, Optimization false, Expressions true, Deforming true')]),\n",
       " RealDictRow([('QUERY PLAN',\n",
       "               '  Timing: Generation 0.312 ms, Inlining 0.000 ms, Optimization 0.345 ms, Emission 2.490 ms, Total 3.147 ms')]),\n",
       " RealDictRow([('QUERY PLAN', 'Execution Time: 1307.105 ms')])]"
      ]
     },
     "execution_count": 14,
     "metadata": {},
     "output_type": "execute_result"
    }
   ],
   "source": [
    "# Плохая селективность (часть 1)\n",
    "\n",
    "sql1 = \"explain (analyze) select * from block11 where type = 'show'\"\n",
    "libs.db_connection.select_data_dict_with_commit(sql1, [])\n"
   ]
  },
  {
   "cell_type": "code",
   "execution_count": 15,
   "id": "b138287e",
   "metadata": {},
   "outputs": [],
   "source": [
    "# Плохая селективность (часть 2)\n",
    "sql1 = \"create index block1_type2 on block11 (type)\"\n",
    "libs.db_connection.execute(sql1)"
   ]
  },
  {
   "cell_type": "code",
   "execution_count": 16,
   "id": "af7716ee",
   "metadata": {},
   "outputs": [
    {
     "data": {
      "text/plain": [
       "[RealDictRow([('QUERY PLAN',\n",
       "               'Seq Scan on block11  (cost=0.00..188695.00 rows=9525000 width=17) (actual time=3.875..1029.861 rows=9499633 loops=1)')]),\n",
       " RealDictRow([('QUERY PLAN', \"  Filter: ((type)::text = 'show'::text)\")]),\n",
       " RealDictRow([('QUERY PLAN', '  Rows Removed by Filter: 500367')]),\n",
       " RealDictRow([('QUERY PLAN', 'Planning Time: 0.614 ms')]),\n",
       " RealDictRow([('QUERY PLAN', 'JIT:')]),\n",
       " RealDictRow([('QUERY PLAN', '  Functions: 2')]),\n",
       " RealDictRow([('QUERY PLAN',\n",
       "               '  Options: Inlining false, Optimization false, Expressions true, Deforming true')]),\n",
       " RealDictRow([('QUERY PLAN',\n",
       "               '  Timing: Generation 0.377 ms, Inlining 0.000 ms, Optimization 0.353 ms, Emission 3.269 ms, Total 3.999 ms')]),\n",
       " RealDictRow([('QUERY PLAN', 'Execution Time: 1274.308 ms')])]"
      ]
     },
     "execution_count": 16,
     "metadata": {},
     "output_type": "execute_result"
    }
   ],
   "source": [
    "# Плохая селективность (часть 1)\n",
    "\n",
    "sql1 = \"explain (analyze) select * from block11 where type = 'show'\"\n",
    "libs.db_connection.select_data_dict_with_commit(sql1, [])\n"
   ]
  },
  {
   "cell_type": "code",
   "execution_count": 17,
   "id": "771cf5f6",
   "metadata": {},
   "outputs": [
    {
     "data": {
      "text/plain": [
       "[RealDictRow([('QUERY PLAN',\n",
       "               'Finalize GroupAggregate  (cost=127195.06..127195.56 rows=2 width=13) (actual time=1176.815..1180.898 rows=2 loops=1)')]),\n",
       " RealDictRow([('QUERY PLAN', '  Group Key: type')]),\n",
       " RealDictRow([('QUERY PLAN',\n",
       "               '  ->  Gather Merge  (cost=127195.06..127195.52 rows=4 width=13) (actual time=1176.807..1180.890 rows=6 loops=1)')]),\n",
       " RealDictRow([('QUERY PLAN', '        Workers Planned: 2')]),\n",
       " RealDictRow([('QUERY PLAN', '        Workers Launched: 2')]),\n",
       " RealDictRow([('QUERY PLAN',\n",
       "               '        ->  Sort  (cost=126195.03..126195.04 rows=2 width=13) (actual time=1146.315..1146.316 rows=2 loops=3)')]),\n",
       " RealDictRow([('QUERY PLAN', '              Sort Key: type')]),\n",
       " RealDictRow([('QUERY PLAN',\n",
       "               '              Sort Method: quicksort  Memory: 25kB')]),\n",
       " RealDictRow([('QUERY PLAN',\n",
       "               '              Worker 0:  Sort Method: quicksort  Memory: 25kB')]),\n",
       " RealDictRow([('QUERY PLAN',\n",
       "               '              Worker 1:  Sort Method: quicksort  Memory: 25kB')]),\n",
       " RealDictRow([('QUERY PLAN',\n",
       "               '              ->  Partial HashAggregate  (cost=126195.00..126195.02 rows=2 width=13) (actual time=1146.280..1146.282 rows=2 loops=3)')]),\n",
       " RealDictRow([('QUERY PLAN', '                    Group Key: type')]),\n",
       " RealDictRow([('QUERY PLAN',\n",
       "               '                    Batches: 1  Memory Usage: 24kB')]),\n",
       " RealDictRow([('QUERY PLAN',\n",
       "               '                    Worker 0:  Batches: 1  Memory Usage: 24kB')]),\n",
       " RealDictRow([('QUERY PLAN',\n",
       "               '                    Worker 1:  Batches: 1  Memory Usage: 24kB')]),\n",
       " RealDictRow([('QUERY PLAN',\n",
       "               '                    ->  Parallel Seq Scan on block11  (cost=0.00..105361.67 rows=4166667 width=5) (actual time=0.018..305.641 rows=3333333 loops=3)')]),\n",
       " RealDictRow([('QUERY PLAN', 'Planning Time: 0.281 ms')]),\n",
       " RealDictRow([('QUERY PLAN', 'JIT:')]),\n",
       " RealDictRow([('QUERY PLAN', '  Functions: 21')]),\n",
       " RealDictRow([('QUERY PLAN',\n",
       "               '  Options: Inlining false, Optimization false, Expressions true, Deforming true')]),\n",
       " RealDictRow([('QUERY PLAN',\n",
       "               '  Timing: Generation 2.312 ms, Inlining 0.000 ms, Optimization 1.126 ms, Emission 19.887 ms, Total 23.326 ms')]),\n",
       " RealDictRow([('QUERY PLAN', 'Execution Time: 1213.095 ms')])]"
      ]
     },
     "execution_count": 17,
     "metadata": {},
     "output_type": "execute_result"
    }
   ],
   "source": [
    "# Плохая селективность (часть 3)\n",
    "\n",
    "sql1 = \"explain (analyze) select type, count(1) from block11 group by type\"\n",
    "libs.db_connection.select_data_dict_with_commit(sql1, [])"
   ]
  },
  {
   "cell_type": "code",
   "execution_count": 34,
   "id": "eda1dacb",
   "metadata": {},
   "outputs": [
    {
     "data": {
      "text/plain": [
       "[RealDictRow([('QUERY PLAN',\n",
       "               'Gather  (cost=1000.00..116779.03 rows=1 width=21) (actual time=511.786..514.605 rows=0 loops=1)')]),\n",
       " RealDictRow([('QUERY PLAN', '  Workers Planned: 2')]),\n",
       " RealDictRow([('QUERY PLAN', '  Workers Launched: 2')]),\n",
       " RealDictRow([('QUERY PLAN',\n",
       "               '  ->  Parallel Seq Scan on task1  (cost=0.00..115778.93 rows=1 width=21) (actual time=479.000..479.000 rows=0 loops=3)')]),\n",
       " RealDictRow([('QUERY PLAN',\n",
       "               \"        Filter: (dt = '2022-05-19 00:00:00+00'::timestamp with time zone)\")]),\n",
       " RealDictRow([('QUERY PLAN', '        Rows Removed by Filter: 3333333')]),\n",
       " RealDictRow([('QUERY PLAN', 'Planning Time: 0.201 ms')]),\n",
       " RealDictRow([('QUERY PLAN', 'JIT:')]),\n",
       " RealDictRow([('QUERY PLAN', '  Functions: 6')]),\n",
       " RealDictRow([('QUERY PLAN',\n",
       "               '  Options: Inlining false, Optimization false, Expressions true, Deforming true')]),\n",
       " RealDictRow([('QUERY PLAN',\n",
       "               '  Timing: Generation 2.669 ms, Inlining 0.000 ms, Optimization 1.328 ms, Emission 11.442 ms, Total 15.439 ms')]),\n",
       " RealDictRow([('QUERY PLAN', 'Execution Time: 548.088 ms')])]"
      ]
     },
     "execution_count": 34,
     "metadata": {},
     "output_type": "execute_result"
    }
   ],
   "source": [
    "# Задание: Нам нужно загрузить таблицу из источника. \n",
    "# При этом забирать ее будем инкрементально каждый день за прошлые сутки \n",
    "# селект уже есть мы его попробовали, но он что-то тормозит, нужно посмотреть, можно ли его ускорить\n",
    "\n",
    "sql = \"explain (analyze) select * from task1 where dt = '2022-05-19 00:00:00'\"\n",
    "libs.db_connection.select_data_dict_with_commit(sql, [])\n"
   ]
  },
  {
   "cell_type": "code",
   "execution_count": 35,
   "id": "ec2cca8a",
   "metadata": {},
   "outputs": [],
   "source": [
    "sql_index = \"create index task1_dt on task1 (dt)\"\n",
    "libs.db_connection.execute(sql_index)"
   ]
  },
  {
   "cell_type": "code",
   "execution_count": 41,
   "id": "628b0e8c",
   "metadata": {},
   "outputs": [
    {
     "data": {
      "text/plain": [
       "[RealDictRow([('QUERY PLAN',\n",
       "               'Index Scan using task1_dt on task1  (cost=0.43..8.45 rows=1 width=21) (actual time=0.004..0.005 rows=0 loops=1)')]),\n",
       " RealDictRow([('QUERY PLAN',\n",
       "               \"  Index Cond: (dt = '2022-05-19 00:00:00+00'::timestamp with time zone)\")]),\n",
       " RealDictRow([('QUERY PLAN', 'Planning Time: 0.225 ms')]),\n",
       " RealDictRow([('QUERY PLAN', 'Execution Time: 0.033 ms')])]"
      ]
     },
     "execution_count": 41,
     "metadata": {},
     "output_type": "execute_result"
    }
   ],
   "source": [
    "# Как сейчас стало\n",
    "\n",
    "sql = \"explain (analyze) select * from task1 where dt = '2022-05-19 00:00:00'\"\n",
    "libs.db_connection.select_data_dict_with_commit(sql, [])"
   ]
  }
 ],
 "metadata": {
  "kernelspec": {
   "display_name": "Python 3 (ipykernel)",
   "language": "python",
   "name": "python3"
  },
  "language_info": {
   "codemirror_mode": {
    "name": "ipython",
    "version": 3
   },
   "file_extension": ".py",
   "mimetype": "text/x-python",
   "name": "python",
   "nbconvert_exporter": "python",
   "pygments_lexer": "ipython3",
   "version": "3.9.7"
  }
 },
 "nbformat": 4,
 "nbformat_minor": 5
}
