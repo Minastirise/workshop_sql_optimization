{
 "cells": [
  {
   "cell_type": "code",
   "execution_count": 1,
   "id": "8cc08e10",
   "metadata": {},
   "outputs": [
    {
     "data": {
      "text/plain": [
       "[RealDictRow([('QUERY PLAN',\n",
       "               'Hash Join  (cost=39189.00..46088.16 rows=1 width=103) (actual time=307.291..307.295 rows=0 loops=1)')]),\n",
       " RealDictRow([('QUERY PLAN',\n",
       "               '  Hash Cond: ((b.user_id = a.user_id) AND ((b.user_name)::text = (a.user_name)::text))')]),\n",
       " RealDictRow([('QUERY PLAN',\n",
       "               '  ->  Seq Scan on block53 b  (cost=0.00..17.80 rows=780 width=76) (actual time=0.585..0.587 rows=10 loops=1)')]),\n",
       " RealDictRow([('QUERY PLAN',\n",
       "               '  ->  Hash  (cost=17353.00..17353.00 rows=1000000 width=27) (actual time=278.103..278.104 rows=1000000 loops=1)')]),\n",
       " RealDictRow([('QUERY PLAN',\n",
       "               '        Buckets: 65536  Batches: 32  Memory Usage: 2347kB')]),\n",
       " RealDictRow([('QUERY PLAN',\n",
       "               '        ->  Seq Scan on block51 a  (cost=0.00..17353.00 rows=1000000 width=27) (actual time=0.524..115.137 rows=1000000 loops=1)')]),\n",
       " RealDictRow([('QUERY PLAN', 'Planning Time: 0.420 ms')]),\n",
       " RealDictRow([('QUERY PLAN', 'Execution Time: 307.480 ms')])]"
      ]
     },
     "execution_count": 1,
     "metadata": {},
     "output_type": "execute_result"
    }
   ],
   "source": [
    "\"\"\"\n",
    "Блок 2. Оптимизация с помощью физических джойнов\n",
    "\"\"\"\n",
    "\n",
    "import libs.db_connection\n",
    "\n",
    "# Hash join\n",
    "sql1 = \"\"\"explain (analyze) \n",
    "select * \n",
    "from block51 a \n",
    "inner join block53 b  \n",
    "on a.user_id = b.user_id \n",
    "and a.user_name = b.user_name\"\"\"\n",
    "\n",
    "            \n",
    "libs.db_connection.select_data_dict_with_commit(sql1, [])"
   ]
  },
  {
   "cell_type": "code",
   "execution_count": 2,
   "id": "fb7b955b",
   "metadata": {},
   "outputs": [
    {
     "data": {
      "text/plain": [
       "[RealDictRow([('QUERY PLAN',\n",
       "               'Gather  (cost=1000.00..12305869.77 rows=16736 width=103) (actual time=202.283..1063.986 rows=206 loops=1)')]),\n",
       " RealDictRow([('QUERY PLAN', '  Workers Planned: 2')]),\n",
       " RealDictRow([('QUERY PLAN', '  Workers Launched: 2')]),\n",
       " RealDictRow([('QUERY PLAN',\n",
       "               '  ->  Nested Loop  (cost=0.00..12303196.17 rows=6973 width=103) (actual time=193.063..1034.287 rows=69 loops=3)')]),\n",
       " RealDictRow([('QUERY PLAN',\n",
       "               '        Join Filter: ((a.user_id = b.user_id) OR ((a.user_name)::text = (b.user_name)::text))')]),\n",
       " RealDictRow([('QUERY PLAN', '        Rows Removed by Join Filter: 3333265')]),\n",
       " RealDictRow([('QUERY PLAN',\n",
       "               '        ->  Parallel Seq Scan on block51 a  (cost=0.00..11519.67 rows=416667 width=27) (actual time=0.031..34.422 rows=333333 loops=3)')]),\n",
       " RealDictRow([('QUERY PLAN',\n",
       "               '        ->  Seq Scan on block53 b  (cost=0.00..17.80 rows=780 width=76) (actual time=0.001..0.001 rows=10 loops=1000000)')]),\n",
       " RealDictRow([('QUERY PLAN', 'Planning Time: 0.334 ms')]),\n",
       " RealDictRow([('QUERY PLAN', 'JIT:')]),\n",
       " RealDictRow([('QUERY PLAN', '  Functions: 18')]),\n",
       " RealDictRow([('QUERY PLAN',\n",
       "               '  Options: Inlining true, Optimization true, Expressions true, Deforming true')]),\n",
       " RealDictRow([('QUERY PLAN',\n",
       "               '  Timing: Generation 1.843 ms, Inlining 178.410 ms, Optimization 237.889 ms, Emission 142.135 ms, Total 560.277 ms')]),\n",
       " RealDictRow([('QUERY PLAN', 'Execution Time: 1094.493 ms')])]"
      ]
     },
     "execution_count": 2,
     "metadata": {},
     "output_type": "execute_result"
    }
   ],
   "source": [
    "# Nested Loop join\n",
    "sql1 = \"\"\"explain  (analyze) \n",
    "select * \n",
    "from block51 a \n",
    "inner join block53 b  \n",
    "on a.user_id = b.user_id \n",
    "or a.user_name = b.user_name\"\"\"\n",
    "\n",
    "            \n",
    "libs.db_connection.select_data_dict_with_commit(sql1, [])"
   ]
  },
  {
   "cell_type": "code",
   "execution_count": 9,
   "id": "a28014cb",
   "metadata": {},
   "outputs": [
    {
     "data": {
      "text/plain": [
       "[RealDictRow([('QUERY PLAN',\n",
       "               'Append  (cost=4.51..14573.68 rows=215 width=103) (actual time=0.035..59.738 rows=206 loops=1)')]),\n",
       " RealDictRow([('QUERY PLAN',\n",
       "               '  ->  Nested Loop  (cost=4.51..475.91 rows=108 width=103) (actual time=0.034..0.264 rows=106 loops=1)')]),\n",
       " RealDictRow([('QUERY PLAN',\n",
       "               '        ->  Seq Scan on block53 b  (cost=0.00..1.10 rows=10 width=76) (actual time=0.003..0.004 rows=10 loops=1)')]),\n",
       " RealDictRow([('QUERY PLAN',\n",
       "               '        ->  Bitmap Heap Scan on block51 a  (cost=4.51..47.37 rows=11 width=27) (actual time=0.007..0.024 rows=11 loops=10)')]),\n",
       " RealDictRow([('QUERY PLAN',\n",
       "               '              Recheck Cond: (user_id = b.user_id)')]),\n",
       " RealDictRow([('QUERY PLAN', '              Heap Blocks: exact=106')]),\n",
       " RealDictRow([('QUERY PLAN',\n",
       "               '              ->  Bitmap Index Scan on block11_tst  (cost=0.00..4.51 rows=11 width=0) (actual time=0.003..0.003 rows=11 loops=10)')]),\n",
       " RealDictRow([('QUERY PLAN',\n",
       "               '                    Index Cond: (user_id = b.user_id)')]),\n",
       " RealDictRow([('QUERY PLAN',\n",
       "               '  ->  Gather  (cost=1001.23..14094.54 rows=107 width=103) (actual time=1.412..59.435 rows=100 loops=1)')]),\n",
       " RealDictRow([('QUERY PLAN', '        Workers Planned: 2')]),\n",
       " RealDictRow([('QUERY PLAN', '        Workers Launched: 2')]),\n",
       " RealDictRow([('QUERY PLAN',\n",
       "               '        ->  Hash Join  (cost=1.23..13083.84 rows=45 width=103) (actual time=1.845..55.166 rows=33 loops=3)')]),\n",
       " RealDictRow([('QUERY PLAN',\n",
       "               '              Hash Cond: ((a_1.user_name)::text = (b_1.user_name)::text)')]),\n",
       " RealDictRow([('QUERY PLAN',\n",
       "               '              ->  Parallel Seq Scan on block51 a_1  (cost=0.00..11519.67 rows=416667 width=27) (actual time=0.022..23.574 rows=333333 loops=3)')]),\n",
       " RealDictRow([('QUERY PLAN',\n",
       "               '              ->  Hash  (cost=1.10..1.10 rows=10 width=76) (actual time=0.014..0.015 rows=10 loops=3)')]),\n",
       " RealDictRow([('QUERY PLAN',\n",
       "               '                    Buckets: 1024  Batches: 1  Memory Usage: 9kB')]),\n",
       " RealDictRow([('QUERY PLAN',\n",
       "               '                    ->  Seq Scan on block53 b_1  (cost=0.00..1.10 rows=10 width=76) (actual time=0.006..0.007 rows=10 loops=3)')]),\n",
       " RealDictRow([('QUERY PLAN', 'Planning Time: 0.738 ms')]),\n",
       " RealDictRow([('QUERY PLAN', 'Execution Time: 59.925 ms')])]"
      ]
     },
     "execution_count": 9,
     "metadata": {},
     "output_type": "execute_result"
    }
   ],
   "source": [
    "# Оптимизация \n",
    "sql1 = \"\"\"\n",
    "explain  (analyze) \n",
    "select * \n",
    "from block51 a \n",
    "inner join block53 b  \n",
    "on a.user_id = b.user_id\n",
    "\n",
    "union all\n",
    "\n",
    "select * \n",
    "from block51 a \n",
    "inner join block53 b  \n",
    "on a.user_name = b.user_name\n",
    "\"\"\"\n",
    "\n",
    "libs.db_connection.select_data_dict_with_commit(sql1, [])"
   ]
  },
  {
   "cell_type": "code",
   "execution_count": 5,
   "id": "f3f8c313",
   "metadata": {},
   "outputs": [],
   "source": [
    "# Создаем индекс\n",
    "sql1 = \"create index block11_tst on block51 (user_id, user_name)\"\n",
    "\n",
    "            \n",
    "libs.db_connection.execute(sql1)"
   ]
  },
  {
   "cell_type": "code",
   "execution_count": 6,
   "id": "fb4db65a",
   "metadata": {},
   "outputs": [],
   "source": [
    "# Создаем индекс\n",
    "sql1 = \"create index block53_tst on block53 (user_id, user_name)\"\n",
    "\n",
    "            \n",
    "libs.db_connection.execute(sql1)"
   ]
  },
  {
   "cell_type": "code",
   "execution_count": 7,
   "id": "b2ec05dd",
   "metadata": {},
   "outputs": [
    {
     "data": {
      "text/plain": [
       "[RealDictRow([('QUERY PLAN',\n",
       "               'Nested Loop  (cost=9046.14..91274.11 rows=215 width=103) (actual time=40.660..236.771 rows=206 loops=1)')]),\n",
       " RealDictRow([('QUERY PLAN',\n",
       "               '  ->  Seq Scan on block53 b  (cost=0.00..1.10 rows=10 width=76) (actual time=0.004..0.017 rows=10 loops=1)')]),\n",
       " RealDictRow([('QUERY PLAN',\n",
       "               '  ->  Bitmap Heap Scan on block51 a  (cost=9046.14..9127.09 rows=21 width=27) (actual time=23.574..23.662 rows=21 loops=10)')]),\n",
       " RealDictRow([('QUERY PLAN',\n",
       "               '        Recheck Cond: ((user_id = b.user_id) OR ((user_name)::text = (b.user_name)::text))')]),\n",
       " RealDictRow([('QUERY PLAN', '        Heap Blocks: exact=206')]),\n",
       " RealDictRow([('QUERY PLAN',\n",
       "               '        ->  BitmapOr  (cost=9046.14..9046.14 rows=21 width=0) (actual time=23.542..23.542 rows=0 loops=10)')]),\n",
       " RealDictRow([('QUERY PLAN',\n",
       "               '              ->  Bitmap Index Scan on block11_tst  (cost=0.00..4.51 rows=11 width=0) (actual time=0.012..0.012 rows=11 loops=10)')]),\n",
       " RealDictRow([('QUERY PLAN',\n",
       "               '                    Index Cond: (user_id = b.user_id)')]),\n",
       " RealDictRow([('QUERY PLAN',\n",
       "               '              ->  Bitmap Index Scan on block11_tst  (cost=0.00..9041.62 rows=11 width=0) (actual time=23.526..23.526 rows=10 loops=10)')]),\n",
       " RealDictRow([('QUERY PLAN',\n",
       "               '                    Index Cond: ((user_name)::text = (b.user_name)::text)')]),\n",
       " RealDictRow([('QUERY PLAN', 'Planning Time: 0.983 ms')]),\n",
       " RealDictRow([('QUERY PLAN', 'Execution Time: 236.862 ms')])]"
      ]
     },
     "execution_count": 7,
     "metadata": {},
     "output_type": "execute_result"
    }
   ],
   "source": [
    "# Nested Loop join\n",
    "sql1 = \"\"\"explain  (analyze) \n",
    "select * \n",
    "from block51 a \n",
    "inner join block53 b  \n",
    "on a.user_id = b.user_id \n",
    "or a.user_name = b.user_name\"\"\"\n",
    "\n",
    "            \n",
    "libs.db_connection.select_data_dict_with_commit(sql1, [])"
   ]
  }
 ],
 "metadata": {
  "kernelspec": {
   "display_name": "Python 3 (ipykernel)",
   "language": "python",
   "name": "python3"
  },
  "language_info": {
   "codemirror_mode": {
    "name": "ipython",
    "version": 3
   },
   "file_extension": ".py",
   "mimetype": "text/x-python",
   "name": "python",
   "nbconvert_exporter": "python",
   "pygments_lexer": "ipython3",
   "version": "3.9.7"
  }
 },
 "nbformat": 4,
 "nbformat_minor": 5
}
