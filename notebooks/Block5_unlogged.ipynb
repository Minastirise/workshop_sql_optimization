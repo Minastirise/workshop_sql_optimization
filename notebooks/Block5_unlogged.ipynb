{
 "cells": [
  {
   "cell_type": "code",
   "execution_count": 1,
   "id": "38dc1999",
   "metadata": {},
   "outputs": [
    {
     "name": "stdout",
     "output_type": "stream",
     "text": [
      "--- 5.614877223968506 seconds ---\n"
     ]
    }
   ],
   "source": [
    "import libs.db_connection\n",
    "import time\n",
    "\n",
    "start_time = time.time()\n",
    "\n",
    "# Пример ETL процесса с промежуточными таблицами\n",
    "sql1 = \"\"\"\n",
    "\n",
    "DO\n",
    "$body$\n",
    "BEGIN\n",
    "   \n",
    "truncate table task41_temp1;\n",
    "insert into task41_temp1 select * from task41_source;\n",
    "\n",
    "truncate table task41_temp2;\n",
    "insert into task41_temp2 select * from task41_temp1;\n",
    "\n",
    "truncate table task41_temp3;\n",
    "insert into task41_temp3 select * from task41_temp2;\n",
    "\n",
    "truncate table task41_result;\n",
    "insert into task41_result select * from task41_temp3;\n",
    "\n",
    "END;   \n",
    "$body$\n",
    "LANGUAGE 'plpgsql'; \n",
    "\"\"\"\n",
    "\n",
    "libs.db_connection.execute(sql1)\n",
    "print(\"--- %s seconds ---\" % (time.time() - start_time))\n",
    "\n"
   ]
  },
  {
   "cell_type": "code",
   "execution_count": 2,
   "id": "f56f70e8",
   "metadata": {},
   "outputs": [],
   "source": [
    "# Меняем таблицы на unlogged\n",
    "\n",
    "sql1 = \"\"\"\n",
    "\n",
    "DO\n",
    "$body$\n",
    "BEGIN\n",
    "   \n",
    "drop table task41_temp1;\n",
    "drop table task41_temp2;\n",
    "drop table task41_temp3;\n",
    "drop table task41_result;\n",
    "\n",
    "create unlogged table task41_temp1 (link2 int, doc varchar);\n",
    "create unlogged table task41_temp2 (link3 int, doc varchar);\n",
    "create unlogged table task41_temp3 (link4 int, doc varchar);\n",
    "create unlogged table task41_result (link5 int, doc varchar);\n",
    "\n",
    "END;   \n",
    "$body$\n",
    "LANGUAGE 'plpgsql'; \n",
    "\"\"\"\n",
    "\n",
    "libs.db_connection.execute(sql1)\n"
   ]
  },
  {
   "cell_type": "code",
   "execution_count": 3,
   "id": "7e186118",
   "metadata": {},
   "outputs": [
    {
     "name": "stdout",
     "output_type": "stream",
     "text": [
      "--- 2.787663221359253 seconds ---\n"
     ]
    }
   ],
   "source": [
    "# Проверяем полученный результат\n",
    "start_time = time.time()\n",
    "sql1 = \"\"\"\n",
    "\n",
    "DO\n",
    "$body$\n",
    "BEGIN\n",
    "   \n",
    "truncate table task41_temp1;\n",
    "insert into task41_temp1 select * from task41_source;\n",
    "\n",
    "truncate table task41_temp2;\n",
    "insert into task41_temp2 select * from task41_temp1;\n",
    "\n",
    "truncate table task41_temp3;\n",
    "insert into task41_temp3 select * from task41_temp2;\n",
    "\n",
    "truncate table task41_result;\n",
    "insert into task41_result select * from task41_temp3;\n",
    "\n",
    "END;   \n",
    "$body$\n",
    "LANGUAGE 'plpgsql'; \n",
    "\"\"\"\n",
    "\n",
    "libs.db_connection.execute(sql1)\n",
    "print(\"--- %s seconds ---\" % (time.time() - start_time))"
   ]
  }
 ],
 "metadata": {
  "kernelspec": {
   "display_name": "Python 3 (ipykernel)",
   "language": "python",
   "name": "python3"
  },
  "language_info": {
   "codemirror_mode": {
    "name": "ipython",
    "version": 3
   },
   "file_extension": ".py",
   "mimetype": "text/x-python",
   "name": "python",
   "nbconvert_exporter": "python",
   "pygments_lexer": "ipython3",
   "version": "3.9.7"
  }
 },
 "nbformat": 4,
 "nbformat_minor": 5
}
